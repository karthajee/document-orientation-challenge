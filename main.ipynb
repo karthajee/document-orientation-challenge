{
  "nbformat": 4,
  "nbformat_minor": 0,
  "metadata": {
    "colab": {
      "provenance": [],
      "collapsed_sections": [],
      "toc_visible": true
    },
    "kernelspec": {
      "name": "python3",
      "display_name": "Python 3"
    },
    "language_info": {
      "name": "python"
    }
  },
  "cells": [
    {
      "cell_type": "markdown",
      "source": [
        "# Introduction\n",
        "\n",
        "- The notebook serves as a walkthrough to my solution to the problem statement of detecting document angle\n",
        "  - A notebook was chosen instead of a Python script for the sake of interactivity & convenience of the examiner\n",
        "- In addition to the notebook, the folder contains the following files/directories:\n",
        "  - A `requirements.txt` file to set up a virtual environment\n",
        "  - A `scripts.py` file that contains the defined functions required for the solution\n",
        "  - `train` and `test` directories that contain the provided data\n",
        "- Although suitable default values have been used, the examiner is requested to set global variables (in the 3rd cell block) to appropriate values of his/her setup"
      ],
      "metadata": {
        "id": "hx9bemWVz8A0"
      }
    },
    {
      "cell_type": "code",
      "source": [
        "from IPython.display import Image\n",
        "Image(url='https://c.tenor.com/6Igas8ss6BAAAAAC/let-us-begin-lets-start.gif')"
      ],
      "metadata": {
        "colab": {
          "base_uri": "https://localhost:8080/",
          "height": 321
        },
        "id": "hi2QRe7N8kKG",
        "outputId": "aea77b47-7c26-4a36-cbad-66e08eaf659d"
      },
      "execution_count": 1,
      "outputs": [
        {
          "output_type": "execute_result",
          "data": {
            "text/html": [
              "<img src=\"https://c.tenor.com/6Igas8ss6BAAAAAC/let-us-begin-lets-start.gif\"/>"
            ],
            "text/plain": [
              "<IPython.core.display.Image object>"
            ]
          },
          "metadata": {},
          "execution_count": 1
        }
      ]
    },
    {
      "cell_type": "markdown",
      "source": [
        "# Installs & Imports"
      ],
      "metadata": {
        "id": "3D7Sr8Ln80f4"
      }
    },
    {
      "cell_type": "code",
      "source": [
        "## UNCOMMENT and RUN to install required libraries (if not yet done)\n",
        "!pip install -r requirements.txt"
      ],
      "metadata": {
        "colab": {
          "base_uri": "https://localhost:8080/"
        },
        "id": "KN9GYAdF956D",
        "outputId": "b28d18c8-18ca-4574-b9d4-898dcb4764d7"
      },
      "execution_count": 2,
      "outputs": [
        {
          "output_type": "stream",
          "name": "stdout",
          "text": [
            "Looking in indexes: https://pypi.org/simple, https://us-python.pkg.dev/colab-wheels/public/simple/\n",
            "Requirement already satisfied: numpy in /usr/local/lib/python3.7/dist-packages (from -r requirements.txt (line 1)) (1.21.6)\n",
            "Requirement already satisfied: scikit_learn in /usr/local/lib/python3.7/dist-packages (from -r requirements.txt (line 2)) (1.0.2)\n",
            "Collecting flaml==1.0.12\n",
            "  Downloading FLAML-1.0.12-py3-none-any.whl (206 kB)\n",
            "\u001b[K     |████████████████████████████████| 206 kB 23.9 MB/s \n",
            "\u001b[?25hCollecting tqdm==4.62.2\n",
            "  Downloading tqdm-4.62.2-py2.py3-none-any.whl (76 kB)\n",
            "\u001b[K     |████████████████████████████████| 76 kB 4.4 MB/s \n",
            "\u001b[?25hRequirement already satisfied: pandas>=1.1.4 in /usr/local/lib/python3.7/dist-packages (from flaml==1.0.12->-r requirements.txt (line 3)) (1.3.5)\n",
            "Requirement already satisfied: xgboost>=0.90 in /usr/local/lib/python3.7/dist-packages (from flaml==1.0.12->-r requirements.txt (line 3)) (0.90)\n",
            "Requirement already satisfied: scipy>=1.4.1 in /usr/local/lib/python3.7/dist-packages (from flaml==1.0.12->-r requirements.txt (line 3)) (1.7.3)\n",
            "Collecting lightgbm>=2.3.1\n",
            "  Downloading lightgbm-3.3.2-py3-none-manylinux1_x86_64.whl (2.0 MB)\n",
            "\u001b[K     |████████████████████████████████| 2.0 MB 55.2 MB/s \n",
            "\u001b[?25hRequirement already satisfied: joblib>=0.11 in /usr/local/lib/python3.7/dist-packages (from scikit_learn->-r requirements.txt (line 2)) (1.1.0)\n",
            "Requirement already satisfied: threadpoolctl>=2.0.0 in /usr/local/lib/python3.7/dist-packages (from scikit_learn->-r requirements.txt (line 2)) (3.1.0)\n",
            "Requirement already satisfied: wheel in /usr/local/lib/python3.7/dist-packages (from lightgbm>=2.3.1->flaml==1.0.12->-r requirements.txt (line 3)) (0.37.1)\n",
            "Requirement already satisfied: pytz>=2017.3 in /usr/local/lib/python3.7/dist-packages (from pandas>=1.1.4->flaml==1.0.12->-r requirements.txt (line 3)) (2022.2.1)\n",
            "Requirement already satisfied: python-dateutil>=2.7.3 in /usr/local/lib/python3.7/dist-packages (from pandas>=1.1.4->flaml==1.0.12->-r requirements.txt (line 3)) (2.8.2)\n",
            "Requirement already satisfied: six>=1.5 in /usr/local/lib/python3.7/dist-packages (from python-dateutil>=2.7.3->pandas>=1.1.4->flaml==1.0.12->-r requirements.txt (line 3)) (1.15.0)\n",
            "Installing collected packages: lightgbm, tqdm, flaml\n",
            "  Attempting uninstall: lightgbm\n",
            "    Found existing installation: lightgbm 2.2.3\n",
            "    Uninstalling lightgbm-2.2.3:\n",
            "      Successfully uninstalled lightgbm-2.2.3\n",
            "  Attempting uninstall: tqdm\n",
            "    Found existing installation: tqdm 4.64.1\n",
            "    Uninstalling tqdm-4.64.1:\n",
            "      Successfully uninstalled tqdm-4.64.1\n",
            "Successfully installed flaml-1.0.12 lightgbm-3.3.2 tqdm-4.62.2\n"
          ]
        }
      ]
    },
    {
      "cell_type": "code",
      "execution_count": 3,
      "metadata": {
        "id": "MoWQeNKyIqLL"
      },
      "outputs": [],
      "source": [
        "# Define global variables here\n",
        "# Path to the 'train' folder\n",
        "TRAIN_PATH = 'drive/MyDrive/flexday_hw_assignment/data/train'\n",
        "\n",
        "# Path to the 'test' folder\n",
        "TEST_PATH = 'drive/MyDrive/flexday_hw_assignment/data/test'\n",
        "\n",
        "# Resized preprocessed image dimension\n",
        "RESIZE_DIM = 100 \n",
        "\n",
        "# List of angle values (used during data enrichment)\n",
        "ANGLES_L = [0, 90, 180, 270]\n",
        "\n",
        "# Random State\n",
        "SEED = 42 \n",
        "\n",
        "# Flag to indicate whether it's being run on Colab\n",
        "COLAB = True"
      ]
    },
    {
      "cell_type": "code",
      "source": [
        "# If using Colab\n",
        "if COLAB:\n",
        "  from google.colab import drive\n",
        "\n",
        "  # Had stored the files in Drive for the assignment\n",
        "  drive.mount('/content/drive')"
      ],
      "metadata": {
        "colab": {
          "base_uri": "https://localhost:8080/"
        },
        "id": "gzY_Jn8oKjSf",
        "outputId": "3f533a10-5f40-47c7-ca9e-2c39c7bfc23f"
      },
      "execution_count": 4,
      "outputs": [
        {
          "output_type": "stream",
          "name": "stdout",
          "text": [
            "Drive already mounted at /content/drive; to attempt to forcibly remount, call drive.mount(\"/content/drive\", force_remount=True).\n"
          ]
        }
      ]
    },
    {
      "cell_type": "code",
      "source": [
        "# Make the necessary imports\n",
        "from pathlib import Path\n",
        "from collections import Counter\n",
        "from sklearn.metrics import accuracy_score\n",
        "from util import load_data_labels, preprocess_image, preprocess_dataset, fit_automl, enrich_data\n",
        "if COLAB:\n",
        "  from google.colab.patches import cv2_imshow"
      ],
      "metadata": {
        "id": "IN7WGE8DPK6E"
      },
      "execution_count": 5,
      "outputs": []
    },
    {
      "cell_type": "markdown",
      "source": [
        "# Loading The Data\n",
        "\n",
        "- Although we can use `os.walk()` or `Path.iterdir()` to iterate through the images in `train` directory, we have no way to retrive the angle (target) from the file paths \n",
        "- We use the provided `labels` file to obtain both the images as well as their corresponding angles\n",
        "- Note: Although we load the test set, we do not touch it at all!"
      ],
      "metadata": {
        "id": "TAjFzHGd2gu9"
      }
    },
    {
      "cell_type": "code",
      "source": [
        "# Define path objects\n",
        "train_loc = Path(TRAIN_PATH)\n",
        "test_loc = Path(TEST_PATH)\n",
        "\n",
        "# Use \\n delimiter to split the full corpus into a list of strings\n",
        "# Last element of the last is an empty string → slicing till that point\n",
        "train_raw_labels = (train_loc/'labels').open('r').read().split('\\n')[:-1]\n",
        "test_raw_labels = (test_loc/'labels').open('r').read().split('\\n')[:-1]\n",
        "\n",
        "# Load images+labels from both training and test data \n",
        "train_imgs_l, train_angles_l = load_data_labels(train_raw_labels, train_loc)\n",
        "test_imgs_l, test_angles_l = load_data_labels(test_raw_labels, test_loc)"
      ],
      "metadata": {
        "id": "LMYeuY4ueDSL",
        "colab": {
          "base_uri": "https://localhost:8080/"
        },
        "outputId": "2d8549a2-69d8-4466-a73c-ae8b084b79ca"
      },
      "execution_count": 6,
      "outputs": [
        {
          "output_type": "stream",
          "name": "stderr",
          "text": [
            "100%|██████████| 203/203 [01:06<00:00,  3.07it/s]\n",
            "100%|██████████| 88/88 [00:29<00:00,  2.97it/s]\n"
          ]
        }
      ]
    },
    {
      "cell_type": "markdown",
      "source": [
        "## Checking for Imbalance\n",
        "\n",
        "- Accuracy is a straightforward metric to use if training data set is balanced\n",
        "- If imbalanced, we need to consider a metric like F1 Score"
      ],
      "metadata": {
        "id": "hNRkrgznJCNJ"
      }
    },
    {
      "cell_type": "code",
      "source": [
        "# Use a counter to quickly determine distribution\n",
        "Counter(train_angles_l)"
      ],
      "metadata": {
        "colab": {
          "base_uri": "https://localhost:8080/"
        },
        "id": "M8BfAtZ6JF34",
        "outputId": "ca815e30-1628-465e-bf20-974b6a3eeebe"
      },
      "execution_count": 7,
      "outputs": [
        {
          "output_type": "execute_result",
          "data": {
            "text/plain": [
              "Counter({0: 55, 90: 51, 270: 45, 180: 52})"
            ]
          },
          "metadata": {},
          "execution_count": 7
        }
      ]
    },
    {
      "cell_type": "markdown",
      "source": [
        "# Assumptions/Constraints Followed\n",
        "\n",
        "- Data contains only driver's licenses\n",
        "- Test set will be used only for evaluation and not for hyperparameter tuning to control overfitting\n",
        "- Train set will not be enriched by scraping new data from the web and manually labelling their angles\n",
        "- Neural Networks were not used in any part of the ML pipeline - processing, feature extraction or modelling"
      ],
      "metadata": {
        "id": "X5RdIv25KvNe"
      }
    },
    {
      "cell_type": "markdown",
      "source": [
        "# Observations & Approach\n",
        "\n",
        "1. Since training data is balanced, we will use `accuracy_score` as the performance metric\n",
        "2. Not all Driver's Licenses are in landscape mode\n",
        "  - For e.g., [this](https://www.quora.com/Why-are-drivers-licenses-vertical-in-some-states-and-horizontal-in-others) mentions how portrait-landscape orientation corresponds to the age of the license holder\n",
        "  - Simple width-height heuristics won't work!\n",
        "3. It is likely that document orientation is:\n",
        "  - Not related to colour\n",
        "  - Related to direction of bulk of the text fields\n",
        "4. Training samples are not consistent in size, brightness, contrast, noise etc\n",
        "5. Training samples are not a lot in number\n"
      ],
      "metadata": {
        "id": "otr9N5HAL_Vw"
      }
    },
    {
      "cell_type": "markdown",
      "source": [
        "# Data Preprocessing\n",
        "\n",
        "- Based on observations #3 and #4, preprocessing is primarily focused on:\n",
        "  - Denoising the image for generalisability\n",
        "  - Converting to grayscale\n",
        "  - Thresholding the grayscaled image to boost contrast between text and non-text areas\n",
        "  - Using a Laplacian filter to construct a map of how intensity change changes along the image"
      ],
      "metadata": {
        "id": "BaU4_rKA2yG6"
      }
    },
    {
      "cell_type": "code",
      "source": [
        "# Generating features for train set & labels\n",
        "train_X, train_y = preprocess_dataset(train_imgs_l, train_angles_l, RESIZE_DIM)"
      ],
      "metadata": {
        "colab": {
          "base_uri": "https://localhost:8080/"
        },
        "id": "Sf2Pcf70k5pe",
        "outputId": "4f686535-15ef-460b-f630-41e94ae64953"
      },
      "execution_count": 8,
      "outputs": [
        {
          "output_type": "stream",
          "name": "stderr",
          "text": [
            "100%|██████████| 203/203 [00:00<00:00, 746.84it/s]\n"
          ]
        }
      ]
    },
    {
      "cell_type": "markdown",
      "source": [
        "## Modelling\n",
        "\n",
        "- We restrict the scope to traditional ML algorithms, including ensemble models\n",
        "- As such, we can take advantage of `AutoML` packages. For the solution, we use Microsoft's lightweight `FLAML`"
      ],
      "metadata": {
        "id": "DvUlcUFFuRD2"
      }
    },
    {
      "cell_type": "code",
      "source": [
        "# Run custom function to fit AutoML model, print results and return model\n",
        "automl = fit_automl(train_X, train_y)"
      ],
      "metadata": {
        "colab": {
          "base_uri": "https://localhost:8080/"
        },
        "id": "PqLj-Ni6GtS2",
        "outputId": "9b5af1aa-bbab-4456-9f57-399469257a16"
      },
      "execution_count": 9,
      "outputs": [
        {
          "output_type": "stream",
          "name": "stderr",
          "text": [
            "[flaml.automl: 09-21 20:08:17] {2600} INFO - task = classification\n",
            "INFO:flaml.automl:task = classification\n",
            "[flaml.automl: 09-21 20:08:17] {2602} INFO - Data split method: stratified\n",
            "INFO:flaml.automl:Data split method: stratified\n",
            "[flaml.automl: 09-21 20:08:17] {2605} INFO - Evaluation method: holdout\n",
            "INFO:flaml.automl:Evaluation method: holdout\n",
            "[flaml.automl: 09-21 20:08:17] {2727} INFO - Minimizing error metric: log_loss\n",
            "INFO:flaml.automl:Minimizing error metric: log_loss\n",
            "[flaml.automl: 09-21 20:08:17] {2869} INFO - List of ML learners in AutoML Run: ['lgbm', 'rf', 'xgboost', 'extra_tree', 'xgb_limitdepth', 'lrl1']\n",
            "INFO:flaml.automl:List of ML learners in AutoML Run: ['lgbm', 'rf', 'xgboost', 'extra_tree', 'xgb_limitdepth', 'lrl1']\n",
            "[flaml.automl: 09-21 20:08:17] {3174} INFO - iteration 0, current learner lgbm\n",
            "INFO:flaml.automl:iteration 0, current learner lgbm\n",
            "[flaml.automl: 09-21 20:08:18] {3308} INFO - Estimated sufficient time budget=9959s. Estimated necessary time budget=230s.\n",
            "INFO:flaml.automl:Estimated sufficient time budget=9959s. Estimated necessary time budget=230s.\n",
            "[flaml.automl: 09-21 20:08:18] {3360} INFO -  at 1.0s,\testimator lgbm's best error=1.3224,\tbest estimator lgbm's best error=1.3224\n",
            "INFO:flaml.automl: at 1.0s,\testimator lgbm's best error=1.3224,\tbest estimator lgbm's best error=1.3224\n",
            "[flaml.automl: 09-21 20:08:18] {3174} INFO - iteration 1, current learner lgbm\n",
            "INFO:flaml.automl:iteration 1, current learner lgbm\n",
            "[flaml.automl: 09-21 20:08:19] {3360} INFO -  at 1.5s,\testimator lgbm's best error=1.3224,\tbest estimator lgbm's best error=1.3224\n",
            "INFO:flaml.automl: at 1.5s,\testimator lgbm's best error=1.3224,\tbest estimator lgbm's best error=1.3224\n",
            "[flaml.automl: 09-21 20:08:19] {3174} INFO - iteration 2, current learner lgbm\n",
            "INFO:flaml.automl:iteration 2, current learner lgbm\n",
            "[flaml.automl: 09-21 20:08:20] {3360} INFO -  at 2.6s,\testimator lgbm's best error=1.3224,\tbest estimator lgbm's best error=1.3224\n",
            "INFO:flaml.automl: at 2.6s,\testimator lgbm's best error=1.3224,\tbest estimator lgbm's best error=1.3224\n",
            "[flaml.automl: 09-21 20:08:20] {3174} INFO - iteration 3, current learner lgbm\n",
            "INFO:flaml.automl:iteration 3, current learner lgbm\n",
            "[flaml.automl: 09-21 20:08:21] {3360} INFO -  at 3.8s,\testimator lgbm's best error=1.2359,\tbest estimator lgbm's best error=1.2359\n",
            "INFO:flaml.automl: at 3.8s,\testimator lgbm's best error=1.2359,\tbest estimator lgbm's best error=1.2359\n",
            "[flaml.automl: 09-21 20:08:21] {3174} INFO - iteration 4, current learner xgboost\n",
            "INFO:flaml.automl:iteration 4, current learner xgboost\n",
            "[flaml.automl: 09-21 20:08:23] {3360} INFO -  at 6.2s,\testimator xgboost's best error=1.3502,\tbest estimator lgbm's best error=1.2359\n",
            "INFO:flaml.automl: at 6.2s,\testimator xgboost's best error=1.3502,\tbest estimator lgbm's best error=1.2359\n",
            "[flaml.automl: 09-21 20:08:23] {3174} INFO - iteration 5, current learner extra_tree\n",
            "INFO:flaml.automl:iteration 5, current learner extra_tree\n",
            "[flaml.automl: 09-21 20:08:24] {3360} INFO -  at 6.6s,\testimator extra_tree's best error=1.3811,\tbest estimator lgbm's best error=1.2359\n",
            "INFO:flaml.automl: at 6.6s,\testimator extra_tree's best error=1.3811,\tbest estimator lgbm's best error=1.2359\n",
            "[flaml.automl: 09-21 20:08:24] {3174} INFO - iteration 6, current learner extra_tree\n",
            "INFO:flaml.automl:iteration 6, current learner extra_tree\n",
            "[flaml.automl: 09-21 20:08:24] {3360} INFO -  at 6.9s,\testimator extra_tree's best error=1.2725,\tbest estimator lgbm's best error=1.2359\n",
            "INFO:flaml.automl: at 6.9s,\testimator extra_tree's best error=1.2725,\tbest estimator lgbm's best error=1.2359\n",
            "[flaml.automl: 09-21 20:08:24] {3174} INFO - iteration 7, current learner xgboost\n",
            "INFO:flaml.automl:iteration 7, current learner xgboost\n",
            "[flaml.automl: 09-21 20:08:26] {3360} INFO -  at 8.7s,\testimator xgboost's best error=1.3502,\tbest estimator lgbm's best error=1.2359\n",
            "INFO:flaml.automl: at 8.7s,\testimator xgboost's best error=1.3502,\tbest estimator lgbm's best error=1.2359\n",
            "[flaml.automl: 09-21 20:08:26] {3174} INFO - iteration 8, current learner lgbm\n",
            "INFO:flaml.automl:iteration 8, current learner lgbm\n",
            "[flaml.automl: 09-21 20:08:27] {3360} INFO -  at 9.9s,\testimator lgbm's best error=1.2359,\tbest estimator lgbm's best error=1.2359\n",
            "INFO:flaml.automl: at 9.9s,\testimator lgbm's best error=1.2359,\tbest estimator lgbm's best error=1.2359\n",
            "[flaml.automl: 09-21 20:08:27] {3174} INFO - iteration 9, current learner xgboost\n",
            "INFO:flaml.automl:iteration 9, current learner xgboost\n",
            "[flaml.automl: 09-21 20:08:29] {3360} INFO -  at 11.9s,\testimator xgboost's best error=1.1958,\tbest estimator xgboost's best error=1.1958\n",
            "INFO:flaml.automl: at 11.9s,\testimator xgboost's best error=1.1958,\tbest estimator xgboost's best error=1.1958\n",
            "[flaml.automl: 09-21 20:08:29] {3174} INFO - iteration 10, current learner extra_tree\n",
            "INFO:flaml.automl:iteration 10, current learner extra_tree\n",
            "[flaml.automl: 09-21 20:08:30] {3360} INFO -  at 12.3s,\testimator extra_tree's best error=1.2725,\tbest estimator xgboost's best error=1.1958\n",
            "INFO:flaml.automl: at 12.3s,\testimator extra_tree's best error=1.2725,\tbest estimator xgboost's best error=1.1958\n",
            "[flaml.automl: 09-21 20:08:30] {3174} INFO - iteration 11, current learner extra_tree\n",
            "INFO:flaml.automl:iteration 11, current learner extra_tree\n",
            "[flaml.automl: 09-21 20:08:30] {3360} INFO -  at 12.7s,\testimator extra_tree's best error=1.2532,\tbest estimator xgboost's best error=1.1958\n",
            "INFO:flaml.automl: at 12.7s,\testimator extra_tree's best error=1.2532,\tbest estimator xgboost's best error=1.1958\n",
            "[flaml.automl: 09-21 20:08:30] {3174} INFO - iteration 12, current learner rf\n",
            "INFO:flaml.automl:iteration 12, current learner rf\n",
            "[flaml.automl: 09-21 20:08:30] {3360} INFO -  at 13.1s,\testimator rf's best error=1.2563,\tbest estimator xgboost's best error=1.1958\n",
            "INFO:flaml.automl: at 13.1s,\testimator rf's best error=1.2563,\tbest estimator xgboost's best error=1.1958\n",
            "[flaml.automl: 09-21 20:08:30] {3174} INFO - iteration 13, current learner rf\n",
            "INFO:flaml.automl:iteration 13, current learner rf\n",
            "[flaml.automl: 09-21 20:08:31] {3360} INFO -  at 13.4s,\testimator rf's best error=1.2563,\tbest estimator xgboost's best error=1.1958\n",
            "INFO:flaml.automl: at 13.4s,\testimator rf's best error=1.2563,\tbest estimator xgboost's best error=1.1958\n",
            "[flaml.automl: 09-21 20:08:31] {3174} INFO - iteration 14, current learner rf\n",
            "INFO:flaml.automl:iteration 14, current learner rf\n",
            "[flaml.automl: 09-21 20:08:31] {3360} INFO -  at 13.7s,\testimator rf's best error=1.2563,\tbest estimator xgboost's best error=1.1958\n",
            "INFO:flaml.automl: at 13.7s,\testimator rf's best error=1.2563,\tbest estimator xgboost's best error=1.1958\n",
            "[flaml.automl: 09-21 20:08:31] {3174} INFO - iteration 15, current learner rf\n",
            "INFO:flaml.automl:iteration 15, current learner rf\n",
            "[flaml.automl: 09-21 20:08:31] {3360} INFO -  at 14.2s,\testimator rf's best error=1.2563,\tbest estimator xgboost's best error=1.1958\n",
            "INFO:flaml.automl: at 14.2s,\testimator rf's best error=1.2563,\tbest estimator xgboost's best error=1.1958\n",
            "[flaml.automl: 09-21 20:08:31] {3174} INFO - iteration 16, current learner rf\n",
            "INFO:flaml.automl:iteration 16, current learner rf\n",
            "[flaml.automl: 09-21 20:08:32] {3360} INFO -  at 14.5s,\testimator rf's best error=1.2563,\tbest estimator xgboost's best error=1.1958\n",
            "INFO:flaml.automl: at 14.5s,\testimator rf's best error=1.2563,\tbest estimator xgboost's best error=1.1958\n",
            "[flaml.automl: 09-21 20:08:32] {3174} INFO - iteration 17, current learner extra_tree\n",
            "INFO:flaml.automl:iteration 17, current learner extra_tree\n",
            "[flaml.automl: 09-21 20:08:32] {3360} INFO -  at 14.9s,\testimator extra_tree's best error=1.2532,\tbest estimator xgboost's best error=1.1958\n",
            "INFO:flaml.automl: at 14.9s,\testimator extra_tree's best error=1.2532,\tbest estimator xgboost's best error=1.1958\n",
            "[flaml.automl: 09-21 20:08:32] {3174} INFO - iteration 18, current learner lgbm\n",
            "INFO:flaml.automl:iteration 18, current learner lgbm\n",
            "[flaml.automl: 09-21 20:08:33] {3360} INFO -  at 15.7s,\testimator lgbm's best error=1.2359,\tbest estimator xgboost's best error=1.1958\n",
            "INFO:flaml.automl: at 15.7s,\testimator lgbm's best error=1.2359,\tbest estimator xgboost's best error=1.1958\n",
            "[flaml.automl: 09-21 20:08:33] {3174} INFO - iteration 19, current learner rf\n",
            "INFO:flaml.automl:iteration 19, current learner rf\n",
            "[flaml.automl: 09-21 20:08:33] {3360} INFO -  at 16.2s,\testimator rf's best error=1.2563,\tbest estimator xgboost's best error=1.1958\n",
            "INFO:flaml.automl: at 16.2s,\testimator rf's best error=1.2563,\tbest estimator xgboost's best error=1.1958\n",
            "[flaml.automl: 09-21 20:08:33] {3174} INFO - iteration 20, current learner rf\n",
            "INFO:flaml.automl:iteration 20, current learner rf\n",
            "[flaml.automl: 09-21 20:08:34] {3360} INFO -  at 16.5s,\testimator rf's best error=1.2563,\tbest estimator xgboost's best error=1.1958\n",
            "INFO:flaml.automl: at 16.5s,\testimator rf's best error=1.2563,\tbest estimator xgboost's best error=1.1958\n",
            "[flaml.automl: 09-21 20:08:34] {3174} INFO - iteration 21, current learner rf\n",
            "INFO:flaml.automl:iteration 21, current learner rf\n",
            "[flaml.automl: 09-21 20:08:34] {3360} INFO -  at 17.0s,\testimator rf's best error=1.2495,\tbest estimator xgboost's best error=1.1958\n",
            "INFO:flaml.automl: at 17.0s,\testimator rf's best error=1.2495,\tbest estimator xgboost's best error=1.1958\n",
            "[flaml.automl: 09-21 20:08:34] {3174} INFO - iteration 22, current learner lgbm\n",
            "INFO:flaml.automl:iteration 22, current learner lgbm\n",
            "[flaml.automl: 09-21 20:08:35] {3360} INFO -  at 18.0s,\testimator lgbm's best error=1.2359,\tbest estimator xgboost's best error=1.1958\n",
            "INFO:flaml.automl: at 18.0s,\testimator lgbm's best error=1.2359,\tbest estimator xgboost's best error=1.1958\n",
            "[flaml.automl: 09-21 20:08:35] {3174} INFO - iteration 23, current learner lgbm\n",
            "INFO:flaml.automl:iteration 23, current learner lgbm\n",
            "[flaml.automl: 09-21 20:08:37] {3360} INFO -  at 19.4s,\testimator lgbm's best error=1.2359,\tbest estimator xgboost's best error=1.1958\n",
            "INFO:flaml.automl: at 19.4s,\testimator lgbm's best error=1.2359,\tbest estimator xgboost's best error=1.1958\n",
            "[flaml.automl: 09-21 20:08:37] {3174} INFO - iteration 24, current learner extra_tree\n",
            "INFO:flaml.automl:iteration 24, current learner extra_tree\n",
            "[flaml.automl: 09-21 20:08:37] {3360} INFO -  at 19.8s,\testimator extra_tree's best error=1.2532,\tbest estimator xgboost's best error=1.1958\n",
            "INFO:flaml.automl: at 19.8s,\testimator extra_tree's best error=1.2532,\tbest estimator xgboost's best error=1.1958\n",
            "[flaml.automl: 09-21 20:08:37] {3174} INFO - iteration 25, current learner extra_tree\n",
            "INFO:flaml.automl:iteration 25, current learner extra_tree\n",
            "[flaml.automl: 09-21 20:08:37] {3360} INFO -  at 20.2s,\testimator extra_tree's best error=1.2262,\tbest estimator xgboost's best error=1.1958\n",
            "INFO:flaml.automl: at 20.2s,\testimator extra_tree's best error=1.2262,\tbest estimator xgboost's best error=1.1958\n",
            "[flaml.automl: 09-21 20:08:37] {3174} INFO - iteration 26, current learner xgboost\n",
            "INFO:flaml.automl:iteration 26, current learner xgboost\n",
            "[flaml.automl: 09-21 20:08:39] {3360} INFO -  at 22.1s,\testimator xgboost's best error=1.1958,\tbest estimator xgboost's best error=1.1958\n",
            "INFO:flaml.automl: at 22.1s,\testimator xgboost's best error=1.1958,\tbest estimator xgboost's best error=1.1958\n",
            "[flaml.automl: 09-21 20:08:39] {3174} INFO - iteration 27, current learner extra_tree\n",
            "INFO:flaml.automl:iteration 27, current learner extra_tree\n",
            "[flaml.automl: 09-21 20:08:40] {3360} INFO -  at 22.6s,\testimator extra_tree's best error=1.2262,\tbest estimator xgboost's best error=1.1958\n",
            "INFO:flaml.automl: at 22.6s,\testimator extra_tree's best error=1.2262,\tbest estimator xgboost's best error=1.1958\n",
            "[flaml.automl: 09-21 20:08:40] {3174} INFO - iteration 28, current learner extra_tree\n",
            "INFO:flaml.automl:iteration 28, current learner extra_tree\n",
            "[flaml.automl: 09-21 20:08:40] {3360} INFO -  at 22.9s,\testimator extra_tree's best error=1.2262,\tbest estimator xgboost's best error=1.1958\n",
            "INFO:flaml.automl: at 22.9s,\testimator extra_tree's best error=1.2262,\tbest estimator xgboost's best error=1.1958\n",
            "[flaml.automl: 09-21 20:08:40] {3174} INFO - iteration 29, current learner extra_tree\n",
            "INFO:flaml.automl:iteration 29, current learner extra_tree\n",
            "[flaml.automl: 09-21 20:08:41] {3360} INFO -  at 23.3s,\testimator extra_tree's best error=1.2262,\tbest estimator xgboost's best error=1.1958\n",
            "INFO:flaml.automl: at 23.3s,\testimator extra_tree's best error=1.2262,\tbest estimator xgboost's best error=1.1958\n",
            "[flaml.automl: 09-21 20:08:41] {3174} INFO - iteration 30, current learner lgbm\n",
            "INFO:flaml.automl:iteration 30, current learner lgbm\n",
            "[flaml.automl: 09-21 20:08:42] {3360} INFO -  at 24.5s,\testimator lgbm's best error=1.2255,\tbest estimator xgboost's best error=1.1958\n",
            "INFO:flaml.automl: at 24.5s,\testimator lgbm's best error=1.2255,\tbest estimator xgboost's best error=1.1958\n",
            "[flaml.automl: 09-21 20:08:42] {3174} INFO - iteration 31, current learner lgbm\n",
            "INFO:flaml.automl:iteration 31, current learner lgbm\n",
            "[flaml.automl: 09-21 20:08:45] {3360} INFO -  at 28.1s,\testimator lgbm's best error=1.1545,\tbest estimator lgbm's best error=1.1545\n",
            "INFO:flaml.automl: at 28.1s,\testimator lgbm's best error=1.1545,\tbest estimator lgbm's best error=1.1545\n",
            "[flaml.automl: 09-21 20:08:45] {3174} INFO - iteration 32, current learner lgbm\n",
            "INFO:flaml.automl:iteration 32, current learner lgbm\n",
            "[flaml.automl: 09-21 20:08:47] {3360} INFO -  at 29.4s,\testimator lgbm's best error=1.1545,\tbest estimator lgbm's best error=1.1545\n",
            "INFO:flaml.automl: at 29.4s,\testimator lgbm's best error=1.1545,\tbest estimator lgbm's best error=1.1545\n",
            "[flaml.automl: 09-21 20:08:47] {3174} INFO - iteration 33, current learner extra_tree\n",
            "INFO:flaml.automl:iteration 33, current learner extra_tree\n",
            "[flaml.automl: 09-21 20:08:47] {3360} INFO -  at 29.8s,\testimator extra_tree's best error=1.2262,\tbest estimator lgbm's best error=1.1545\n",
            "INFO:flaml.automl: at 29.8s,\testimator extra_tree's best error=1.2262,\tbest estimator lgbm's best error=1.1545\n",
            "[flaml.automl: 09-21 20:08:47] {3174} INFO - iteration 34, current learner lgbm\n",
            "INFO:flaml.automl:iteration 34, current learner lgbm\n",
            "[flaml.automl: 09-21 20:08:48] {3360} INFO -  at 30.9s,\testimator lgbm's best error=1.1545,\tbest estimator lgbm's best error=1.1545\n",
            "INFO:flaml.automl: at 30.9s,\testimator lgbm's best error=1.1545,\tbest estimator lgbm's best error=1.1545\n",
            "[flaml.automl: 09-21 20:08:48] {3174} INFO - iteration 35, current learner lgbm\n",
            "INFO:flaml.automl:iteration 35, current learner lgbm\n",
            "[flaml.automl: 09-21 20:08:49] {3360} INFO -  at 32.2s,\testimator lgbm's best error=1.1545,\tbest estimator lgbm's best error=1.1545\n",
            "INFO:flaml.automl: at 32.2s,\testimator lgbm's best error=1.1545,\tbest estimator lgbm's best error=1.1545\n",
            "[flaml.automl: 09-21 20:08:49] {3174} INFO - iteration 36, current learner extra_tree\n",
            "INFO:flaml.automl:iteration 36, current learner extra_tree\n",
            "[flaml.automl: 09-21 20:08:50] {3360} INFO -  at 32.5s,\testimator extra_tree's best error=1.2262,\tbest estimator lgbm's best error=1.1545\n",
            "INFO:flaml.automl: at 32.5s,\testimator extra_tree's best error=1.2262,\tbest estimator lgbm's best error=1.1545\n",
            "[flaml.automl: 09-21 20:08:50] {3174} INFO - iteration 37, current learner xgboost\n",
            "INFO:flaml.automl:iteration 37, current learner xgboost\n",
            "[flaml.automl: 09-21 20:08:52] {3360} INFO -  at 34.6s,\testimator xgboost's best error=1.1958,\tbest estimator lgbm's best error=1.1545\n",
            "INFO:flaml.automl: at 34.6s,\testimator xgboost's best error=1.1958,\tbest estimator lgbm's best error=1.1545\n",
            "[flaml.automl: 09-21 20:08:52] {3174} INFO - iteration 38, current learner xgboost\n",
            "INFO:flaml.automl:iteration 38, current learner xgboost\n",
            "[flaml.automl: 09-21 20:08:54] {3360} INFO -  at 36.5s,\testimator xgboost's best error=1.1958,\tbest estimator lgbm's best error=1.1545\n",
            "INFO:flaml.automl: at 36.5s,\testimator xgboost's best error=1.1958,\tbest estimator lgbm's best error=1.1545\n",
            "[flaml.automl: 09-21 20:08:54] {3174} INFO - iteration 39, current learner lgbm\n",
            "INFO:flaml.automl:iteration 39, current learner lgbm\n",
            "[flaml.automl: 09-21 20:08:55] {3360} INFO -  at 37.7s,\testimator lgbm's best error=1.1545,\tbest estimator lgbm's best error=1.1545\n",
            "INFO:flaml.automl: at 37.7s,\testimator lgbm's best error=1.1545,\tbest estimator lgbm's best error=1.1545\n",
            "[flaml.automl: 09-21 20:08:55] {3174} INFO - iteration 40, current learner xgboost\n",
            "INFO:flaml.automl:iteration 40, current learner xgboost\n",
            "[flaml.automl: 09-21 20:08:58] {3360} INFO -  at 40.9s,\testimator xgboost's best error=1.1958,\tbest estimator lgbm's best error=1.1545\n",
            "INFO:flaml.automl: at 40.9s,\testimator xgboost's best error=1.1958,\tbest estimator lgbm's best error=1.1545\n",
            "[flaml.automl: 09-21 20:08:58] {3174} INFO - iteration 41, current learner extra_tree\n",
            "INFO:flaml.automl:iteration 41, current learner extra_tree\n",
            "[flaml.automl: 09-21 20:08:59] {3360} INFO -  at 41.4s,\testimator extra_tree's best error=1.2262,\tbest estimator lgbm's best error=1.1545\n",
            "INFO:flaml.automl: at 41.4s,\testimator extra_tree's best error=1.2262,\tbest estimator lgbm's best error=1.1545\n",
            "[flaml.automl: 09-21 20:08:59] {3174} INFO - iteration 42, current learner lgbm\n",
            "INFO:flaml.automl:iteration 42, current learner lgbm\n",
            "[flaml.automl: 09-21 20:09:00] {3360} INFO -  at 42.6s,\testimator lgbm's best error=1.1545,\tbest estimator lgbm's best error=1.1545\n",
            "INFO:flaml.automl: at 42.6s,\testimator lgbm's best error=1.1545,\tbest estimator lgbm's best error=1.1545\n",
            "[flaml.automl: 09-21 20:09:00] {3174} INFO - iteration 43, current learner xgboost\n",
            "INFO:flaml.automl:iteration 43, current learner xgboost\n",
            "[flaml.automl: 09-21 20:09:03] {3360} INFO -  at 46.0s,\testimator xgboost's best error=1.1958,\tbest estimator lgbm's best error=1.1545\n",
            "INFO:flaml.automl: at 46.0s,\testimator xgboost's best error=1.1958,\tbest estimator lgbm's best error=1.1545\n",
            "[flaml.automl: 09-21 20:09:03] {3174} INFO - iteration 44, current learner extra_tree\n",
            "INFO:flaml.automl:iteration 44, current learner extra_tree\n",
            "[flaml.automl: 09-21 20:09:04] {3360} INFO -  at 46.4s,\testimator extra_tree's best error=1.2262,\tbest estimator lgbm's best error=1.1545\n",
            "INFO:flaml.automl: at 46.4s,\testimator extra_tree's best error=1.2262,\tbest estimator lgbm's best error=1.1545\n",
            "[flaml.automl: 09-21 20:09:04] {3174} INFO - iteration 45, current learner xgboost\n",
            "INFO:flaml.automl:iteration 45, current learner xgboost\n",
            "[flaml.automl: 09-21 20:09:05] {3360} INFO -  at 48.2s,\testimator xgboost's best error=1.1958,\tbest estimator lgbm's best error=1.1545\n",
            "INFO:flaml.automl: at 48.2s,\testimator xgboost's best error=1.1958,\tbest estimator lgbm's best error=1.1545\n",
            "[flaml.automl: 09-21 20:09:05] {3174} INFO - iteration 46, current learner lgbm\n",
            "INFO:flaml.automl:iteration 46, current learner lgbm\n",
            "[flaml.automl: 09-21 20:09:07] {3360} INFO -  at 49.4s,\testimator lgbm's best error=1.1545,\tbest estimator lgbm's best error=1.1545\n",
            "INFO:flaml.automl: at 49.4s,\testimator lgbm's best error=1.1545,\tbest estimator lgbm's best error=1.1545\n",
            "[flaml.automl: 09-21 20:09:07] {3174} INFO - iteration 47, current learner xgboost\n",
            "INFO:flaml.automl:iteration 47, current learner xgboost\n",
            "[flaml.automl: 09-21 20:09:09] {3360} INFO -  at 51.4s,\testimator xgboost's best error=1.1958,\tbest estimator lgbm's best error=1.1545\n",
            "INFO:flaml.automl: at 51.4s,\testimator xgboost's best error=1.1958,\tbest estimator lgbm's best error=1.1545\n",
            "[flaml.automl: 09-21 20:09:09] {3174} INFO - iteration 48, current learner lgbm\n",
            "INFO:flaml.automl:iteration 48, current learner lgbm\n",
            "[flaml.automl: 09-21 20:09:10] {3360} INFO -  at 52.8s,\testimator lgbm's best error=1.1545,\tbest estimator lgbm's best error=1.1545\n",
            "INFO:flaml.automl: at 52.8s,\testimator lgbm's best error=1.1545,\tbest estimator lgbm's best error=1.1545\n",
            "[flaml.automl: 09-21 20:09:10] {3174} INFO - iteration 49, current learner lgbm\n",
            "INFO:flaml.automl:iteration 49, current learner lgbm\n",
            "[flaml.automl: 09-21 20:09:11] {3360} INFO -  at 53.9s,\testimator lgbm's best error=1.1545,\tbest estimator lgbm's best error=1.1545\n",
            "INFO:flaml.automl: at 53.9s,\testimator lgbm's best error=1.1545,\tbest estimator lgbm's best error=1.1545\n",
            "[flaml.automl: 09-21 20:09:11] {3174} INFO - iteration 50, current learner extra_tree\n",
            "INFO:flaml.automl:iteration 50, current learner extra_tree\n",
            "[flaml.automl: 09-21 20:09:12] {3360} INFO -  at 54.3s,\testimator extra_tree's best error=1.2262,\tbest estimator lgbm's best error=1.1545\n",
            "INFO:flaml.automl: at 54.3s,\testimator extra_tree's best error=1.2262,\tbest estimator lgbm's best error=1.1545\n",
            "[flaml.automl: 09-21 20:09:12] {3174} INFO - iteration 51, current learner lgbm\n",
            "INFO:flaml.automl:iteration 51, current learner lgbm\n",
            "[flaml.automl: 09-21 20:09:13] {3360} INFO -  at 55.5s,\testimator lgbm's best error=1.1545,\tbest estimator lgbm's best error=1.1545\n",
            "INFO:flaml.automl: at 55.5s,\testimator lgbm's best error=1.1545,\tbest estimator lgbm's best error=1.1545\n",
            "[flaml.automl: 09-21 20:09:13] {3174} INFO - iteration 52, current learner lgbm\n",
            "INFO:flaml.automl:iteration 52, current learner lgbm\n",
            "[flaml.automl: 09-21 20:09:14] {3360} INFO -  at 56.8s,\testimator lgbm's best error=1.1545,\tbest estimator lgbm's best error=1.1545\n",
            "INFO:flaml.automl: at 56.8s,\testimator lgbm's best error=1.1545,\tbest estimator lgbm's best error=1.1545\n",
            "[flaml.automl: 09-21 20:09:14] {3174} INFO - iteration 53, current learner xgboost\n",
            "INFO:flaml.automl:iteration 53, current learner xgboost\n",
            "[flaml.automl: 09-21 20:09:16] {3360} INFO -  at 58.8s,\testimator xgboost's best error=1.1958,\tbest estimator lgbm's best error=1.1545\n",
            "INFO:flaml.automl: at 58.8s,\testimator xgboost's best error=1.1958,\tbest estimator lgbm's best error=1.1545\n",
            "[flaml.automl: 09-21 20:09:16] {3174} INFO - iteration 54, current learner rf\n",
            "INFO:flaml.automl:iteration 54, current learner rf\n",
            "[flaml.automl: 09-21 20:09:16] {3360} INFO -  at 59.1s,\testimator rf's best error=1.2495,\tbest estimator lgbm's best error=1.1545\n",
            "INFO:flaml.automl: at 59.1s,\testimator rf's best error=1.2495,\tbest estimator lgbm's best error=1.1545\n",
            "[flaml.automl: 09-21 20:09:16] {3174} INFO - iteration 55, current learner extra_tree\n",
            "INFO:flaml.automl:iteration 55, current learner extra_tree\n",
            "[flaml.automl: 09-21 20:09:17] {3360} INFO -  at 59.5s,\testimator extra_tree's best error=1.2262,\tbest estimator lgbm's best error=1.1545\n",
            "INFO:flaml.automl: at 59.5s,\testimator extra_tree's best error=1.2262,\tbest estimator lgbm's best error=1.1545\n",
            "[flaml.automl: 09-21 20:09:17] {3174} INFO - iteration 56, current learner rf\n",
            "INFO:flaml.automl:iteration 56, current learner rf\n",
            "[flaml.automl: 09-21 20:09:17] {3360} INFO -  at 59.8s,\testimator rf's best error=1.2495,\tbest estimator lgbm's best error=1.1545\n",
            "INFO:flaml.automl: at 59.8s,\testimator rf's best error=1.2495,\tbest estimator lgbm's best error=1.1545\n",
            "[flaml.automl: 09-21 20:09:17] {3174} INFO - iteration 57, current learner xgb_limitdepth\n",
            "INFO:flaml.automl:iteration 57, current learner xgb_limitdepth\n",
            "[flaml.automl: 09-21 20:09:18] {3360} INFO -  at 60.3s,\testimator xgb_limitdepth's best error=1.3528,\tbest estimator lgbm's best error=1.1545\n",
            "INFO:flaml.automl: at 60.3s,\testimator xgb_limitdepth's best error=1.3528,\tbest estimator lgbm's best error=1.1545\n",
            "[flaml.automl: 09-21 20:09:19] {3620} INFO - retrain lgbm for 1.3s\n",
            "INFO:flaml.automl:retrain lgbm for 1.3s\n",
            "[flaml.automl: 09-21 20:09:19] {3625} INFO - retrained model: LGBMClassifier(colsample_bytree=0.9038613725964871,\n",
            "               learning_rate=0.2712162364070373, max_bin=1023,\n",
            "               min_child_samples=15, n_estimators=7, num_leaves=8,\n",
            "               reg_alpha=0.002668211515123386, reg_lambda=0.5215467339232843,\n",
            "               verbose=-1)\n",
            "INFO:flaml.automl:retrained model: LGBMClassifier(colsample_bytree=0.9038613725964871,\n",
            "               learning_rate=0.2712162364070373, max_bin=1023,\n",
            "               min_child_samples=15, n_estimators=7, num_leaves=8,\n",
            "               reg_alpha=0.002668211515123386, reg_lambda=0.5215467339232843,\n",
            "               verbose=-1)\n",
            "[flaml.automl: 09-21 20:09:19] {2900} INFO - fit succeeded\n",
            "INFO:flaml.automl:fit succeeded\n",
            "[flaml.automl: 09-21 20:09:19] {2902} INFO - Time taken to find the best model: 28.11652112007141\n",
            "INFO:flaml.automl:Time taken to find the best model: 28.11652112007141\n"
          ]
        },
        {
          "output_type": "stream",
          "name": "stdout",
          "text": [
            "[INFO] Accuracy on train data: 1.0\n"
          ]
        }
      ]
    },
    {
      "cell_type": "markdown",
      "source": [
        "## Testing\n",
        "\n",
        "- As expected, the training data performance is extremely high\n",
        "- How do we fare on the test set?\n",
        "- Note: Since this is for skill demonstration purposes, I'm making an exception by considering test set for evaluation\n",
        "  - Ideally, training data ought to be split into a smaller training and a separate validation/holdout set\n",
        "  - Evaluation must be performed on the holdout set"
      ],
      "metadata": {
        "id": "eD2eqczkuQ7h"
      }
    },
    {
      "cell_type": "code",
      "source": [
        "# Obtain the test set features and labels as numpy arrays\n",
        "test_X, test_y = preprocess_dataset(test_imgs_l, test_angles_l, RESIZE_DIM)\n",
        "\n",
        "# Print the accuracy score on the test set\n",
        "print(f'[INFO] Accuracy on test set: {accuracy_score(automl.predict(test_X), test_y)}')"
      ],
      "metadata": {
        "colab": {
          "base_uri": "https://localhost:8080/"
        },
        "id": "sRCim8eAM1Oq",
        "outputId": "cf1f9653-41a0-4d4a-8511-b5c0aa841b41"
      },
      "execution_count": 10,
      "outputs": [
        {
          "output_type": "stream",
          "name": "stderr",
          "text": [
            "100%|██████████| 88/88 [00:00<00:00, 1123.70it/s]"
          ]
        },
        {
          "output_type": "stream",
          "name": "stdout",
          "text": [
            "[INFO] Accuracy on test set: 0.4318181818181818\n"
          ]
        },
        {
          "output_type": "stream",
          "name": "stderr",
          "text": [
            "\n"
          ]
        }
      ]
    },
    {
      "cell_type": "markdown",
      "source": [
        "# Improving the Model\n",
        "\n",
        "- Random guessing would yield us 25% accuracy (balanced dataset, 4 classes)\n",
        "- Current AutoML model performs 1.5x-2x better than random guessing\n",
        "- We make 2 improvements to our pipeline:\n",
        "  - Using rotation to generate more training samples\n",
        "  - Using PCA to reduce dimensionality of training samples  "
      ],
      "metadata": {
        "id": "chKMpxk_c_Er"
      }
    },
    {
      "cell_type": "markdown",
      "source": [
        "## Training Data Enrichment via Rotation\n",
        "\n",
        "- For each training data image, we can generate 3 versions by rotating them by 90, 180 and 270 degrees\n",
        "  - Rotation will be counterclockwise to be in line with labelling convention in training data\n",
        "- Each generated version will have a different angle (and hence class label). For e.g.,\n",
        "  - If original angle is 0, then each successive rotation would yields 90, 180 and 270\n",
        "  - If original angle is 90, then each successive rotation would yields 180, 270 and 0\n",
        "  - If original angle is 180, then each successive rotation would yields 270, 0 and 90\n",
        "  - If original angle is 270, then each successive rotation would yields 0, 90 and 180"
      ],
      "metadata": {
        "id": "flFHynylhGWL"
      }
    },
    {
      "cell_type": "code",
      "source": [
        "# Create a list of enriched images and corresponding labels\n",
        "rot_imgs_l, rot_labels_l = enrich_data(train_imgs_l, train_angles_l)\n",
        "\n",
        "# Preprocess this enriched list\n",
        "train_X_rot, train_y_rot = preprocess_dataset(rot_imgs_l, rot_labels_l, RESIZE_DIM, shuffle=True)"
      ],
      "metadata": {
        "colab": {
          "base_uri": "https://localhost:8080/"
        },
        "id": "eaVbqja6wqT-",
        "outputId": "4367a35e-c8ef-4666-e2c5-50752c3df139"
      },
      "execution_count": 11,
      "outputs": [
        {
          "output_type": "stream",
          "name": "stderr",
          "text": [
            "100%|██████████| 203/203 [00:00<00:00, 392.70it/s]\n",
            "100%|██████████| 812/812 [00:00<00:00, 832.32it/s]\n"
          ]
        }
      ]
    },
    {
      "cell_type": "markdown",
      "source": [
        "### Modelling + Testing 2.0\n",
        "\n",
        "- We repeat the AutoML process and subsequent test set evaluation\n",
        "- As is evident, accuracy has increased by 30-40% with data enrichment!"
      ],
      "metadata": {
        "id": "KP7IcG4UBnkZ"
      }
    },
    {
      "cell_type": "code",
      "source": [
        "# Run the custom function to fit an AutoML model and display the results\n",
        "automl_rot = fit_automl(train_X_rot, train_y_rot)"
      ],
      "metadata": {
        "colab": {
          "base_uri": "https://localhost:8080/"
        },
        "id": "_xpeb7BN_-0H",
        "outputId": "7c8ea702-0d77-41d7-d6e1-4dcb368236f7"
      },
      "execution_count": 12,
      "outputs": [
        {
          "output_type": "stream",
          "name": "stderr",
          "text": [
            "[flaml.automl: 09-21 20:09:21] {2600} INFO - task = classification\n",
            "INFO:flaml.automl:task = classification\n",
            "[flaml.automl: 09-21 20:09:21] {2602} INFO - Data split method: stratified\n",
            "INFO:flaml.automl:Data split method: stratified\n",
            "[flaml.automl: 09-21 20:09:21] {2605} INFO - Evaluation method: holdout\n",
            "INFO:flaml.automl:Evaluation method: holdout\n",
            "[flaml.automl: 09-21 20:09:21] {2727} INFO - Minimizing error metric: log_loss\n",
            "INFO:flaml.automl:Minimizing error metric: log_loss\n",
            "[flaml.automl: 09-21 20:09:21] {2869} INFO - List of ML learners in AutoML Run: ['lgbm', 'rf', 'xgboost', 'extra_tree', 'xgb_limitdepth', 'lrl1']\n",
            "INFO:flaml.automl:List of ML learners in AutoML Run: ['lgbm', 'rf', 'xgboost', 'extra_tree', 'xgb_limitdepth', 'lrl1']\n",
            "[flaml.automl: 09-21 20:09:21] {3174} INFO - iteration 0, current learner lgbm\n",
            "INFO:flaml.automl:iteration 0, current learner lgbm\n",
            "[flaml.automl: 09-21 20:09:23] {3308} INFO - Estimated sufficient time budget=21493s. Estimated necessary time budget=495s.\n",
            "INFO:flaml.automl:Estimated sufficient time budget=21493s. Estimated necessary time budget=495s.\n",
            "[flaml.automl: 09-21 20:09:23] {3360} INFO -  at 2.2s,\testimator lgbm's best error=1.3439,\tbest estimator lgbm's best error=1.3439\n",
            "INFO:flaml.automl: at 2.2s,\testimator lgbm's best error=1.3439,\tbest estimator lgbm's best error=1.3439\n",
            "[flaml.automl: 09-21 20:09:23] {3174} INFO - iteration 1, current learner lgbm\n",
            "INFO:flaml.automl:iteration 1, current learner lgbm\n",
            "[flaml.automl: 09-21 20:09:25] {3360} INFO -  at 4.2s,\testimator lgbm's best error=1.3439,\tbest estimator lgbm's best error=1.3439\n",
            "INFO:flaml.automl: at 4.2s,\testimator lgbm's best error=1.3439,\tbest estimator lgbm's best error=1.3439\n",
            "[flaml.automl: 09-21 20:09:25] {3174} INFO - iteration 2, current learner lgbm\n",
            "INFO:flaml.automl:iteration 2, current learner lgbm\n",
            "[flaml.automl: 09-21 20:09:27] {3360} INFO -  at 6.3s,\testimator lgbm's best error=1.3065,\tbest estimator lgbm's best error=1.3065\n",
            "INFO:flaml.automl: at 6.3s,\testimator lgbm's best error=1.3065,\tbest estimator lgbm's best error=1.3065\n",
            "[flaml.automl: 09-21 20:09:27] {3174} INFO - iteration 3, current learner xgboost\n",
            "INFO:flaml.automl:iteration 3, current learner xgboost\n",
            "[flaml.automl: 09-21 20:09:31] {3360} INFO -  at 10.0s,\testimator xgboost's best error=1.3536,\tbest estimator lgbm's best error=1.3065\n",
            "INFO:flaml.automl: at 10.0s,\testimator xgboost's best error=1.3536,\tbest estimator lgbm's best error=1.3065\n",
            "[flaml.automl: 09-21 20:09:31] {3174} INFO - iteration 4, current learner lgbm\n",
            "INFO:flaml.automl:iteration 4, current learner lgbm\n",
            "[flaml.automl: 09-21 20:09:33] {3360} INFO -  at 12.6s,\testimator lgbm's best error=1.2178,\tbest estimator lgbm's best error=1.2178\n",
            "INFO:flaml.automl: at 12.6s,\testimator lgbm's best error=1.2178,\tbest estimator lgbm's best error=1.2178\n",
            "[flaml.automl: 09-21 20:09:33] {3174} INFO - iteration 5, current learner lgbm\n",
            "INFO:flaml.automl:iteration 5, current learner lgbm\n",
            "[flaml.automl: 09-21 20:09:35] {3360} INFO -  at 14.7s,\testimator lgbm's best error=1.2178,\tbest estimator lgbm's best error=1.2178\n",
            "INFO:flaml.automl: at 14.7s,\testimator lgbm's best error=1.2178,\tbest estimator lgbm's best error=1.2178\n",
            "[flaml.automl: 09-21 20:09:35] {3174} INFO - iteration 6, current learner lgbm\n",
            "INFO:flaml.automl:iteration 6, current learner lgbm\n",
            "[flaml.automl: 09-21 20:09:38] {3360} INFO -  at 17.1s,\testimator lgbm's best error=1.2178,\tbest estimator lgbm's best error=1.2178\n",
            "INFO:flaml.automl: at 17.1s,\testimator lgbm's best error=1.2178,\tbest estimator lgbm's best error=1.2178\n",
            "[flaml.automl: 09-21 20:09:38] {3174} INFO - iteration 7, current learner lgbm\n",
            "INFO:flaml.automl:iteration 7, current learner lgbm\n",
            "[flaml.automl: 09-21 20:09:40] {3360} INFO -  at 19.4s,\testimator lgbm's best error=1.1832,\tbest estimator lgbm's best error=1.1832\n",
            "INFO:flaml.automl: at 19.4s,\testimator lgbm's best error=1.1832,\tbest estimator lgbm's best error=1.1832\n",
            "[flaml.automl: 09-21 20:09:40] {3174} INFO - iteration 8, current learner lgbm\n",
            "INFO:flaml.automl:iteration 8, current learner lgbm\n",
            "[flaml.automl: 09-21 20:09:42] {3360} INFO -  at 21.6s,\testimator lgbm's best error=1.1832,\tbest estimator lgbm's best error=1.1832\n",
            "INFO:flaml.automl: at 21.6s,\testimator lgbm's best error=1.1832,\tbest estimator lgbm's best error=1.1832\n",
            "[flaml.automl: 09-21 20:09:42] {3174} INFO - iteration 9, current learner lgbm\n",
            "INFO:flaml.automl:iteration 9, current learner lgbm\n",
            "[flaml.automl: 09-21 20:09:45] {3360} INFO -  at 24.1s,\testimator lgbm's best error=1.0846,\tbest estimator lgbm's best error=1.0846\n",
            "INFO:flaml.automl: at 24.1s,\testimator lgbm's best error=1.0846,\tbest estimator lgbm's best error=1.0846\n",
            "[flaml.automl: 09-21 20:09:45] {3174} INFO - iteration 10, current learner lgbm\n",
            "INFO:flaml.automl:iteration 10, current learner lgbm\n",
            "[flaml.automl: 09-21 20:09:47] {3360} INFO -  at 26.4s,\testimator lgbm's best error=1.0846,\tbest estimator lgbm's best error=1.0846\n",
            "INFO:flaml.automl: at 26.4s,\testimator lgbm's best error=1.0846,\tbest estimator lgbm's best error=1.0846\n",
            "[flaml.automl: 09-21 20:09:47] {3174} INFO - iteration 11, current learner xgboost\n",
            "INFO:flaml.automl:iteration 11, current learner xgboost\n",
            "[flaml.automl: 09-21 20:09:51] {3360} INFO -  at 30.0s,\testimator xgboost's best error=1.3536,\tbest estimator lgbm's best error=1.0846\n",
            "INFO:flaml.automl: at 30.0s,\testimator xgboost's best error=1.3536,\tbest estimator lgbm's best error=1.0846\n",
            "[flaml.automl: 09-21 20:09:51] {3174} INFO - iteration 12, current learner lgbm\n",
            "INFO:flaml.automl:iteration 12, current learner lgbm\n",
            "[flaml.automl: 09-21 20:09:55] {3360} INFO -  at 34.1s,\testimator lgbm's best error=0.8879,\tbest estimator lgbm's best error=0.8879\n",
            "INFO:flaml.automl: at 34.1s,\testimator lgbm's best error=0.8879,\tbest estimator lgbm's best error=0.8879\n",
            "[flaml.automl: 09-21 20:09:55] {3174} INFO - iteration 13, current learner extra_tree\n",
            "INFO:flaml.automl:iteration 13, current learner extra_tree\n",
            "[flaml.automl: 09-21 20:09:55] {3360} INFO -  at 34.5s,\testimator extra_tree's best error=1.2856,\tbest estimator lgbm's best error=0.8879\n",
            "INFO:flaml.automl: at 34.5s,\testimator extra_tree's best error=1.2856,\tbest estimator lgbm's best error=0.8879\n",
            "[flaml.automl: 09-21 20:09:55] {3174} INFO - iteration 14, current learner extra_tree\n",
            "INFO:flaml.automl:iteration 14, current learner extra_tree\n",
            "[flaml.automl: 09-21 20:09:55] {3360} INFO -  at 34.8s,\testimator extra_tree's best error=1.2856,\tbest estimator lgbm's best error=0.8879\n",
            "INFO:flaml.automl: at 34.8s,\testimator extra_tree's best error=1.2856,\tbest estimator lgbm's best error=0.8879\n",
            "[flaml.automl: 09-21 20:09:55] {3174} INFO - iteration 15, current learner extra_tree\n",
            "INFO:flaml.automl:iteration 15, current learner extra_tree\n",
            "[flaml.automl: 09-21 20:09:56] {3360} INFO -  at 35.2s,\testimator extra_tree's best error=1.2856,\tbest estimator lgbm's best error=0.8879\n",
            "INFO:flaml.automl: at 35.2s,\testimator extra_tree's best error=1.2856,\tbest estimator lgbm's best error=0.8879\n",
            "[flaml.automl: 09-21 20:09:56] {3174} INFO - iteration 16, current learner extra_tree\n",
            "INFO:flaml.automl:iteration 16, current learner extra_tree\n",
            "[flaml.automl: 09-21 20:09:56] {3360} INFO -  at 35.7s,\testimator extra_tree's best error=1.2856,\tbest estimator lgbm's best error=0.8879\n",
            "INFO:flaml.automl: at 35.7s,\testimator extra_tree's best error=1.2856,\tbest estimator lgbm's best error=0.8879\n",
            "[flaml.automl: 09-21 20:09:56] {3174} INFO - iteration 17, current learner lgbm\n",
            "INFO:flaml.automl:iteration 17, current learner lgbm\n",
            "[flaml.automl: 09-21 20:10:00] {3360} INFO -  at 39.5s,\testimator lgbm's best error=0.8879,\tbest estimator lgbm's best error=0.8879\n",
            "INFO:flaml.automl: at 39.5s,\testimator lgbm's best error=0.8879,\tbest estimator lgbm's best error=0.8879\n",
            "[flaml.automl: 09-21 20:10:00] {3174} INFO - iteration 18, current learner extra_tree\n",
            "INFO:flaml.automl:iteration 18, current learner extra_tree\n",
            "[flaml.automl: 09-21 20:10:00] {3360} INFO -  at 39.8s,\testimator extra_tree's best error=1.2856,\tbest estimator lgbm's best error=0.8879\n",
            "INFO:flaml.automl: at 39.8s,\testimator extra_tree's best error=1.2856,\tbest estimator lgbm's best error=0.8879\n",
            "[flaml.automl: 09-21 20:10:01] {3174} INFO - iteration 19, current learner extra_tree\n",
            "INFO:flaml.automl:iteration 19, current learner extra_tree\n",
            "[flaml.automl: 09-21 20:10:01] {3360} INFO -  at 40.3s,\testimator extra_tree's best error=1.2856,\tbest estimator lgbm's best error=0.8879\n",
            "INFO:flaml.automl: at 40.3s,\testimator extra_tree's best error=1.2856,\tbest estimator lgbm's best error=0.8879\n",
            "[flaml.automl: 09-21 20:10:01] {3174} INFO - iteration 20, current learner extra_tree\n",
            "INFO:flaml.automl:iteration 20, current learner extra_tree\n",
            "[flaml.automl: 09-21 20:10:01] {3360} INFO -  at 40.7s,\testimator extra_tree's best error=1.2856,\tbest estimator lgbm's best error=0.8879\n",
            "INFO:flaml.automl: at 40.7s,\testimator extra_tree's best error=1.2856,\tbest estimator lgbm's best error=0.8879\n",
            "[flaml.automl: 09-21 20:10:01] {3174} INFO - iteration 21, current learner lgbm\n",
            "INFO:flaml.automl:iteration 21, current learner lgbm\n",
            "[flaml.automl: 09-21 20:10:04] {3360} INFO -  at 43.7s,\testimator lgbm's best error=0.8879,\tbest estimator lgbm's best error=0.8879\n",
            "INFO:flaml.automl: at 43.7s,\testimator lgbm's best error=0.8879,\tbest estimator lgbm's best error=0.8879\n",
            "[flaml.automl: 09-21 20:10:04] {3174} INFO - iteration 22, current learner xgboost\n",
            "INFO:flaml.automl:iteration 22, current learner xgboost\n",
            "[flaml.automl: 09-21 20:10:08] {3360} INFO -  at 47.4s,\testimator xgboost's best error=1.3535,\tbest estimator lgbm's best error=0.8879\n",
            "INFO:flaml.automl: at 47.4s,\testimator xgboost's best error=1.3535,\tbest estimator lgbm's best error=0.8879\n",
            "[flaml.automl: 09-21 20:10:08] {3174} INFO - iteration 23, current learner extra_tree\n",
            "INFO:flaml.automl:iteration 23, current learner extra_tree\n",
            "[flaml.automl: 09-21 20:10:09] {3360} INFO -  at 47.9s,\testimator extra_tree's best error=1.2856,\tbest estimator lgbm's best error=0.8879\n",
            "INFO:flaml.automl: at 47.9s,\testimator extra_tree's best error=1.2856,\tbest estimator lgbm's best error=0.8879\n",
            "[flaml.automl: 09-21 20:10:09] {3174} INFO - iteration 24, current learner extra_tree\n",
            "INFO:flaml.automl:iteration 24, current learner extra_tree\n",
            "[flaml.automl: 09-21 20:10:09] {3360} INFO -  at 48.2s,\testimator extra_tree's best error=1.2856,\tbest estimator lgbm's best error=0.8879\n",
            "INFO:flaml.automl: at 48.2s,\testimator extra_tree's best error=1.2856,\tbest estimator lgbm's best error=0.8879\n",
            "[flaml.automl: 09-21 20:10:09] {3174} INFO - iteration 25, current learner lgbm\n",
            "INFO:flaml.automl:iteration 25, current learner lgbm\n",
            "[flaml.automl: 09-21 20:10:12] {3360} INFO -  at 51.4s,\testimator lgbm's best error=0.8879,\tbest estimator lgbm's best error=0.8879\n",
            "INFO:flaml.automl: at 51.4s,\testimator lgbm's best error=0.8879,\tbest estimator lgbm's best error=0.8879\n",
            "[flaml.automl: 09-21 20:10:12] {3174} INFO - iteration 26, current learner extra_tree\n",
            "INFO:flaml.automl:iteration 26, current learner extra_tree\n",
            "[flaml.automl: 09-21 20:10:13] {3360} INFO -  at 51.9s,\testimator extra_tree's best error=1.2856,\tbest estimator lgbm's best error=0.8879\n",
            "INFO:flaml.automl: at 51.9s,\testimator extra_tree's best error=1.2856,\tbest estimator lgbm's best error=0.8879\n",
            "[flaml.automl: 09-21 20:10:13] {3174} INFO - iteration 27, current learner extra_tree\n",
            "INFO:flaml.automl:iteration 27, current learner extra_tree\n",
            "[flaml.automl: 09-21 20:10:13] {3360} INFO -  at 52.2s,\testimator extra_tree's best error=1.2856,\tbest estimator lgbm's best error=0.8879\n",
            "INFO:flaml.automl: at 52.2s,\testimator extra_tree's best error=1.2856,\tbest estimator lgbm's best error=0.8879\n",
            "[flaml.automl: 09-21 20:10:13] {3174} INFO - iteration 28, current learner extra_tree\n",
            "INFO:flaml.automl:iteration 28, current learner extra_tree\n",
            "[flaml.automl: 09-21 20:10:13] {3360} INFO -  at 52.6s,\testimator extra_tree's best error=1.2856,\tbest estimator lgbm's best error=0.8879\n",
            "INFO:flaml.automl: at 52.6s,\testimator extra_tree's best error=1.2856,\tbest estimator lgbm's best error=0.8879\n",
            "[flaml.automl: 09-21 20:10:13] {3174} INFO - iteration 29, current learner rf\n",
            "INFO:flaml.automl:iteration 29, current learner rf\n",
            "[flaml.automl: 09-21 20:10:14] {3360} INFO -  at 53.0s,\testimator rf's best error=1.3299,\tbest estimator lgbm's best error=0.8879\n",
            "INFO:flaml.automl: at 53.0s,\testimator rf's best error=1.3299,\tbest estimator lgbm's best error=0.8879\n",
            "[flaml.automl: 09-21 20:10:14] {3174} INFO - iteration 30, current learner rf\n",
            "INFO:flaml.automl:iteration 30, current learner rf\n",
            "[flaml.automl: 09-21 20:10:14] {3360} INFO -  at 53.3s,\testimator rf's best error=1.3284,\tbest estimator lgbm's best error=0.8879\n",
            "INFO:flaml.automl: at 53.3s,\testimator rf's best error=1.3284,\tbest estimator lgbm's best error=0.8879\n",
            "[flaml.automl: 09-21 20:10:14] {3174} INFO - iteration 31, current learner lgbm\n",
            "INFO:flaml.automl:iteration 31, current learner lgbm\n",
            "[flaml.automl: 09-21 20:10:18] {3360} INFO -  at 57.6s,\testimator lgbm's best error=0.8879,\tbest estimator lgbm's best error=0.8879\n",
            "INFO:flaml.automl: at 57.6s,\testimator lgbm's best error=0.8879,\tbest estimator lgbm's best error=0.8879\n",
            "[flaml.automl: 09-21 20:10:18] {3174} INFO - iteration 32, current learner extra_tree\n",
            "INFO:flaml.automl:iteration 32, current learner extra_tree\n",
            "[flaml.automl: 09-21 20:10:19] {3360} INFO -  at 58.1s,\testimator extra_tree's best error=1.2856,\tbest estimator lgbm's best error=0.8879\n",
            "INFO:flaml.automl: at 58.1s,\testimator extra_tree's best error=1.2856,\tbest estimator lgbm's best error=0.8879\n",
            "[flaml.automl: 09-21 20:10:19] {3174} INFO - iteration 33, current learner extra_tree\n",
            "INFO:flaml.automl:iteration 33, current learner extra_tree\n",
            "[flaml.automl: 09-21 20:10:19] {3360} INFO -  at 58.5s,\testimator extra_tree's best error=1.2856,\tbest estimator lgbm's best error=0.8879\n",
            "INFO:flaml.automl: at 58.5s,\testimator extra_tree's best error=1.2856,\tbest estimator lgbm's best error=0.8879\n",
            "[flaml.automl: 09-21 20:10:19] {3174} INFO - iteration 34, current learner extra_tree\n",
            "INFO:flaml.automl:iteration 34, current learner extra_tree\n",
            "[flaml.automl: 09-21 20:10:20] {3360} INFO -  at 58.9s,\testimator extra_tree's best error=1.2856,\tbest estimator lgbm's best error=0.8879\n",
            "INFO:flaml.automl: at 58.9s,\testimator extra_tree's best error=1.2856,\tbest estimator lgbm's best error=0.8879\n",
            "[flaml.automl: 09-21 20:10:20] {3174} INFO - iteration 35, current learner extra_tree\n",
            "INFO:flaml.automl:iteration 35, current learner extra_tree\n",
            "[flaml.automl: 09-21 20:10:20] {3360} INFO -  at 59.3s,\testimator extra_tree's best error=1.2598,\tbest estimator lgbm's best error=0.8879\n",
            "INFO:flaml.automl: at 59.3s,\testimator extra_tree's best error=1.2598,\tbest estimator lgbm's best error=0.8879\n",
            "[flaml.automl: 09-21 20:10:20] {3174} INFO - iteration 36, current learner xgb_limitdepth\n",
            "INFO:flaml.automl:iteration 36, current learner xgb_limitdepth\n",
            "[flaml.automl: 09-21 20:10:22] {3360} INFO -  at 60.9s,\testimator xgb_limitdepth's best error=1.2959,\tbest estimator lgbm's best error=0.8879\n",
            "INFO:flaml.automl: at 60.9s,\testimator xgb_limitdepth's best error=1.2959,\tbest estimator lgbm's best error=0.8879\n",
            "[flaml.automl: 09-21 20:10:26] {3620} INFO - retrain lgbm for 4.0s\n",
            "INFO:flaml.automl:retrain lgbm for 4.0s\n",
            "[flaml.automl: 09-21 20:10:26] {3625} INFO - retrained model: LGBMClassifier(colsample_bytree=0.8345075630938922,\n",
            "               learning_rate=0.15922418945050276, max_bin=1023,\n",
            "               min_child_samples=9, n_estimators=27, num_leaves=10,\n",
            "               reg_alpha=0.0009765625, reg_lambda=1.6702305601383631,\n",
            "               verbose=-1)\n",
            "INFO:flaml.automl:retrained model: LGBMClassifier(colsample_bytree=0.8345075630938922,\n",
            "               learning_rate=0.15922418945050276, max_bin=1023,\n",
            "               min_child_samples=9, n_estimators=27, num_leaves=10,\n",
            "               reg_alpha=0.0009765625, reg_lambda=1.6702305601383631,\n",
            "               verbose=-1)\n",
            "[flaml.automl: 09-21 20:10:26] {2900} INFO - fit succeeded\n",
            "INFO:flaml.automl:fit succeeded\n",
            "[flaml.automl: 09-21 20:10:26] {2902} INFO - Time taken to find the best model: 34.122718811035156\n",
            "INFO:flaml.automl:Time taken to find the best model: 34.122718811035156\n"
          ]
        },
        {
          "output_type": "stream",
          "name": "stdout",
          "text": [
            "[INFO] Accuracy on train data: 1.0\n"
          ]
        }
      ]
    },
    {
      "cell_type": "code",
      "source": [
        "# Print the accuracy score on the test set\n",
        "print(f'[INFO] Accuracy on test set: {accuracy_score(automl_rot.predict(test_X), test_y)}')"
      ],
      "metadata": {
        "colab": {
          "base_uri": "https://localhost:8080/"
        },
        "id": "LdHBvX14Byd7",
        "outputId": "71341016-8a1a-4b75-b266-b9ec9a50251d"
      },
      "execution_count": 13,
      "outputs": [
        {
          "output_type": "stream",
          "name": "stdout",
          "text": [
            "[INFO] Accuracy on test set: 0.7272727272727273\n"
          ]
        }
      ]
    },
    {
      "cell_type": "markdown",
      "source": [
        "## Dimensionality Reduction\n",
        "\n",
        "- Even after enrichment, curse of dimensionality looms over our problem\n",
        "  - Dimension outnumbers samples by 10-15x\n",
        "- On account of thresholding + Laplacian, images are sparse, i.e., most pixels contain 0 information\n",
        "- Using PCA can help preserve the structure and reduce the dimensionality"
      ],
      "metadata": {
        "id": "JHH69XNcvcVq"
      }
    },
    {
      "cell_type": "markdown",
      "source": [
        "### Modelling + Testing 3.0"
      ],
      "metadata": {
        "id": "DFvhM5dvr83u"
      }
    },
    {
      "cell_type": "code",
      "source": [
        "automl_pca, pca_object = fit_automl(train_X_rot, train_y_rot, pca=True)"
      ],
      "metadata": {
        "colab": {
          "base_uri": "https://localhost:8080/"
        },
        "id": "5fO6pIBhwwgj",
        "outputId": "f1b01755-799a-4bea-80bc-008ced9ffebd"
      },
      "execution_count": 14,
      "outputs": [
        {
          "output_type": "stream",
          "name": "stderr",
          "text": [
            "[flaml.automl: 09-21 20:10:30] {2600} INFO - task = classification\n",
            "INFO:flaml.automl:task = classification\n",
            "[flaml.automl: 09-21 20:10:30] {2602} INFO - Data split method: stratified\n",
            "INFO:flaml.automl:Data split method: stratified\n",
            "[flaml.automl: 09-21 20:10:30] {2605} INFO - Evaluation method: holdout\n",
            "INFO:flaml.automl:Evaluation method: holdout\n",
            "[flaml.automl: 09-21 20:10:30] {2727} INFO - Minimizing error metric: log_loss\n",
            "INFO:flaml.automl:Minimizing error metric: log_loss\n",
            "[flaml.automl: 09-21 20:10:30] {2869} INFO - List of ML learners in AutoML Run: ['lgbm', 'rf', 'xgboost', 'extra_tree', 'xgb_limitdepth', 'lrl1']\n",
            "INFO:flaml.automl:List of ML learners in AutoML Run: ['lgbm', 'rf', 'xgboost', 'extra_tree', 'xgb_limitdepth', 'lrl1']\n",
            "[flaml.automl: 09-21 20:10:30] {3174} INFO - iteration 0, current learner lgbm\n",
            "INFO:flaml.automl:iteration 0, current learner lgbm\n",
            "[flaml.automl: 09-21 20:10:31] {3308} INFO - Estimated sufficient time budget=3375s. Estimated necessary time budget=78s.\n",
            "INFO:flaml.automl:Estimated sufficient time budget=3375s. Estimated necessary time budget=78s.\n",
            "[flaml.automl: 09-21 20:10:31] {3360} INFO -  at 0.4s,\testimator lgbm's best error=1.1319,\tbest estimator lgbm's best error=1.1319\n",
            "INFO:flaml.automl: at 0.4s,\testimator lgbm's best error=1.1319,\tbest estimator lgbm's best error=1.1319\n",
            "[flaml.automl: 09-21 20:10:31] {3174} INFO - iteration 1, current learner lgbm\n",
            "INFO:flaml.automl:iteration 1, current learner lgbm\n",
            "[flaml.automl: 09-21 20:10:31] {3360} INFO -  at 0.7s,\testimator lgbm's best error=1.1319,\tbest estimator lgbm's best error=1.1319\n",
            "INFO:flaml.automl: at 0.7s,\testimator lgbm's best error=1.1319,\tbest estimator lgbm's best error=1.1319\n",
            "[flaml.automl: 09-21 20:10:31] {3174} INFO - iteration 2, current learner lgbm\n",
            "INFO:flaml.automl:iteration 2, current learner lgbm\n",
            "[flaml.automl: 09-21 20:10:31] {3360} INFO -  at 1.0s,\testimator lgbm's best error=0.9747,\tbest estimator lgbm's best error=0.9747\n",
            "INFO:flaml.automl: at 1.0s,\testimator lgbm's best error=0.9747,\tbest estimator lgbm's best error=0.9747\n",
            "[flaml.automl: 09-21 20:10:31] {3174} INFO - iteration 3, current learner lgbm\n",
            "INFO:flaml.automl:iteration 3, current learner lgbm\n",
            "[flaml.automl: 09-21 20:10:32] {3360} INFO -  at 1.4s,\testimator lgbm's best error=0.9145,\tbest estimator lgbm's best error=0.9145\n",
            "INFO:flaml.automl: at 1.4s,\testimator lgbm's best error=0.9145,\tbest estimator lgbm's best error=0.9145\n",
            "[flaml.automl: 09-21 20:10:32] {3174} INFO - iteration 4, current learner lgbm\n",
            "INFO:flaml.automl:iteration 4, current learner lgbm\n",
            "[flaml.automl: 09-21 20:10:32] {3360} INFO -  at 1.7s,\testimator lgbm's best error=0.9145,\tbest estimator lgbm's best error=0.9145\n",
            "INFO:flaml.automl: at 1.7s,\testimator lgbm's best error=0.9145,\tbest estimator lgbm's best error=0.9145\n",
            "[flaml.automl: 09-21 20:10:32] {3174} INFO - iteration 5, current learner lgbm\n",
            "INFO:flaml.automl:iteration 5, current learner lgbm\n",
            "[flaml.automl: 09-21 20:10:33] {3360} INFO -  at 2.3s,\testimator lgbm's best error=0.9145,\tbest estimator lgbm's best error=0.9145\n",
            "INFO:flaml.automl: at 2.3s,\testimator lgbm's best error=0.9145,\tbest estimator lgbm's best error=0.9145\n",
            "[flaml.automl: 09-21 20:10:33] {3174} INFO - iteration 6, current learner xgboost\n",
            "INFO:flaml.automl:iteration 6, current learner xgboost\n",
            "[flaml.automl: 09-21 20:10:34] {3360} INFO -  at 3.3s,\testimator xgboost's best error=1.1965,\tbest estimator lgbm's best error=0.9145\n",
            "INFO:flaml.automl: at 3.3s,\testimator xgboost's best error=1.1965,\tbest estimator lgbm's best error=0.9145\n",
            "[flaml.automl: 09-21 20:10:34] {3174} INFO - iteration 7, current learner extra_tree\n",
            "INFO:flaml.automl:iteration 7, current learner extra_tree\n",
            "[flaml.automl: 09-21 20:10:34] {3360} INFO -  at 3.7s,\testimator extra_tree's best error=1.3938,\tbest estimator lgbm's best error=0.9145\n",
            "INFO:flaml.automl: at 3.7s,\testimator extra_tree's best error=1.3938,\tbest estimator lgbm's best error=0.9145\n",
            "[flaml.automl: 09-21 20:10:34] {3174} INFO - iteration 8, current learner lgbm\n",
            "INFO:flaml.automl:iteration 8, current learner lgbm\n",
            "[flaml.automl: 09-21 20:10:34] {3360} INFO -  at 4.1s,\testimator lgbm's best error=0.9145,\tbest estimator lgbm's best error=0.9145\n",
            "INFO:flaml.automl: at 4.1s,\testimator lgbm's best error=0.9145,\tbest estimator lgbm's best error=0.9145\n",
            "[flaml.automl: 09-21 20:10:34] {3174} INFO - iteration 9, current learner xgboost\n",
            "INFO:flaml.automl:iteration 9, current learner xgboost\n",
            "[flaml.automl: 09-21 20:10:35] {3360} INFO -  at 5.0s,\testimator xgboost's best error=1.1965,\tbest estimator lgbm's best error=0.9145\n",
            "INFO:flaml.automl: at 5.0s,\testimator xgboost's best error=1.1965,\tbest estimator lgbm's best error=0.9145\n",
            "[flaml.automl: 09-21 20:10:35] {3174} INFO - iteration 10, current learner xgboost\n",
            "INFO:flaml.automl:iteration 10, current learner xgboost\n",
            "[flaml.automl: 09-21 20:10:36] {3360} INFO -  at 6.0s,\testimator xgboost's best error=1.0440,\tbest estimator lgbm's best error=0.9145\n",
            "INFO:flaml.automl: at 6.0s,\testimator xgboost's best error=1.0440,\tbest estimator lgbm's best error=0.9145\n",
            "[flaml.automl: 09-21 20:10:36] {3174} INFO - iteration 11, current learner extra_tree\n",
            "INFO:flaml.automl:iteration 11, current learner extra_tree\n",
            "[flaml.automl: 09-21 20:10:37] {3360} INFO -  at 6.4s,\testimator extra_tree's best error=1.2391,\tbest estimator lgbm's best error=0.9145\n",
            "INFO:flaml.automl: at 6.4s,\testimator extra_tree's best error=1.2391,\tbest estimator lgbm's best error=0.9145\n",
            "[flaml.automl: 09-21 20:10:37] {3174} INFO - iteration 12, current learner rf\n",
            "INFO:flaml.automl:iteration 12, current learner rf\n",
            "[flaml.automl: 09-21 20:10:37] {3360} INFO -  at 6.7s,\testimator rf's best error=1.1305,\tbest estimator lgbm's best error=0.9145\n",
            "INFO:flaml.automl: at 6.7s,\testimator rf's best error=1.1305,\tbest estimator lgbm's best error=0.9145\n",
            "[flaml.automl: 09-21 20:10:37] {3174} INFO - iteration 13, current learner rf\n",
            "INFO:flaml.automl:iteration 13, current learner rf\n",
            "[flaml.automl: 09-21 20:10:37] {3360} INFO -  at 7.0s,\testimator rf's best error=1.1305,\tbest estimator lgbm's best error=0.9145\n",
            "INFO:flaml.automl: at 7.0s,\testimator rf's best error=1.1305,\tbest estimator lgbm's best error=0.9145\n",
            "[flaml.automl: 09-21 20:10:37] {3174} INFO - iteration 14, current learner rf\n",
            "INFO:flaml.automl:iteration 14, current learner rf\n",
            "[flaml.automl: 09-21 20:10:38] {3360} INFO -  at 7.4s,\testimator rf's best error=1.1305,\tbest estimator lgbm's best error=0.9145\n",
            "INFO:flaml.automl: at 7.4s,\testimator rf's best error=1.1305,\tbest estimator lgbm's best error=0.9145\n",
            "[flaml.automl: 09-21 20:10:38] {3174} INFO - iteration 15, current learner rf\n",
            "INFO:flaml.automl:iteration 15, current learner rf\n",
            "[flaml.automl: 09-21 20:10:38] {3360} INFO -  at 7.8s,\testimator rf's best error=1.1305,\tbest estimator lgbm's best error=0.9145\n",
            "INFO:flaml.automl: at 7.8s,\testimator rf's best error=1.1305,\tbest estimator lgbm's best error=0.9145\n",
            "[flaml.automl: 09-21 20:10:38] {3174} INFO - iteration 16, current learner lgbm\n",
            "INFO:flaml.automl:iteration 16, current learner lgbm\n",
            "[flaml.automl: 09-21 20:10:39] {3360} INFO -  at 8.2s,\testimator lgbm's best error=0.9145,\tbest estimator lgbm's best error=0.9145\n",
            "INFO:flaml.automl: at 8.2s,\testimator lgbm's best error=0.9145,\tbest estimator lgbm's best error=0.9145\n",
            "[flaml.automl: 09-21 20:10:39] {3174} INFO - iteration 17, current learner extra_tree\n",
            "INFO:flaml.automl:iteration 17, current learner extra_tree\n",
            "[flaml.automl: 09-21 20:10:39] {3360} INFO -  at 8.6s,\testimator extra_tree's best error=1.2081,\tbest estimator lgbm's best error=0.9145\n",
            "INFO:flaml.automl: at 8.6s,\testimator extra_tree's best error=1.2081,\tbest estimator lgbm's best error=0.9145\n",
            "[flaml.automl: 09-21 20:10:39] {3174} INFO - iteration 18, current learner lgbm\n",
            "INFO:flaml.automl:iteration 18, current learner lgbm\n",
            "[flaml.automl: 09-21 20:10:40] {3360} INFO -  at 9.3s,\testimator lgbm's best error=0.7443,\tbest estimator lgbm's best error=0.7443\n",
            "INFO:flaml.automl: at 9.3s,\testimator lgbm's best error=0.7443,\tbest estimator lgbm's best error=0.7443\n",
            "[flaml.automl: 09-21 20:10:40] {3174} INFO - iteration 19, current learner rf\n",
            "INFO:flaml.automl:iteration 19, current learner rf\n",
            "[flaml.automl: 09-21 20:10:40] {3360} INFO -  at 9.6s,\testimator rf's best error=1.1305,\tbest estimator lgbm's best error=0.7443\n",
            "INFO:flaml.automl: at 9.6s,\testimator rf's best error=1.1305,\tbest estimator lgbm's best error=0.7443\n",
            "[flaml.automl: 09-21 20:10:40] {3174} INFO - iteration 20, current learner rf\n",
            "INFO:flaml.automl:iteration 20, current learner rf\n",
            "[flaml.automl: 09-21 20:10:40] {3360} INFO -  at 10.1s,\testimator rf's best error=1.1305,\tbest estimator lgbm's best error=0.7443\n",
            "INFO:flaml.automl: at 10.1s,\testimator rf's best error=1.1305,\tbest estimator lgbm's best error=0.7443\n",
            "[flaml.automl: 09-21 20:10:40] {3174} INFO - iteration 21, current learner rf\n",
            "INFO:flaml.automl:iteration 21, current learner rf\n",
            "[flaml.automl: 09-21 20:10:41] {3360} INFO -  at 10.4s,\testimator rf's best error=1.1305,\tbest estimator lgbm's best error=0.7443\n",
            "INFO:flaml.automl: at 10.4s,\testimator rf's best error=1.1305,\tbest estimator lgbm's best error=0.7443\n",
            "[flaml.automl: 09-21 20:10:41] {3174} INFO - iteration 22, current learner lgbm\n",
            "INFO:flaml.automl:iteration 22, current learner lgbm\n",
            "[flaml.automl: 09-21 20:10:41] {3360} INFO -  at 10.9s,\testimator lgbm's best error=0.7443,\tbest estimator lgbm's best error=0.7443\n",
            "INFO:flaml.automl: at 10.9s,\testimator lgbm's best error=0.7443,\tbest estimator lgbm's best error=0.7443\n",
            "[flaml.automl: 09-21 20:10:41] {3174} INFO - iteration 23, current learner lgbm\n",
            "INFO:flaml.automl:iteration 23, current learner lgbm\n",
            "[flaml.automl: 09-21 20:10:45] {3360} INFO -  at 14.3s,\testimator lgbm's best error=0.6764,\tbest estimator lgbm's best error=0.6764\n",
            "INFO:flaml.automl: at 14.3s,\testimator lgbm's best error=0.6764,\tbest estimator lgbm's best error=0.6764\n",
            "[flaml.automl: 09-21 20:10:45] {3174} INFO - iteration 24, current learner xgboost\n",
            "INFO:flaml.automl:iteration 24, current learner xgboost\n",
            "[flaml.automl: 09-21 20:10:46] {3360} INFO -  at 15.2s,\testimator xgboost's best error=0.9077,\tbest estimator lgbm's best error=0.6764\n",
            "INFO:flaml.automl: at 15.2s,\testimator xgboost's best error=0.9077,\tbest estimator lgbm's best error=0.6764\n",
            "[flaml.automl: 09-21 20:10:46] {3174} INFO - iteration 25, current learner extra_tree\n",
            "INFO:flaml.automl:iteration 25, current learner extra_tree\n",
            "[flaml.automl: 09-21 20:10:46] {3360} INFO -  at 15.7s,\testimator extra_tree's best error=1.2081,\tbest estimator lgbm's best error=0.6764\n",
            "INFO:flaml.automl: at 15.7s,\testimator extra_tree's best error=1.2081,\tbest estimator lgbm's best error=0.6764\n",
            "[flaml.automl: 09-21 20:10:46] {3174} INFO - iteration 26, current learner rf\n",
            "INFO:flaml.automl:iteration 26, current learner rf\n",
            "[flaml.automl: 09-21 20:10:47] {3360} INFO -  at 16.1s,\testimator rf's best error=1.1305,\tbest estimator lgbm's best error=0.6764\n",
            "INFO:flaml.automl: at 16.1s,\testimator rf's best error=1.1305,\tbest estimator lgbm's best error=0.6764\n",
            "[flaml.automl: 09-21 20:10:47] {3174} INFO - iteration 27, current learner xgboost\n",
            "INFO:flaml.automl:iteration 27, current learner xgboost\n",
            "[flaml.automl: 09-21 20:10:48] {3360} INFO -  at 17.4s,\testimator xgboost's best error=0.9077,\tbest estimator lgbm's best error=0.6764\n",
            "INFO:flaml.automl: at 17.4s,\testimator xgboost's best error=0.9077,\tbest estimator lgbm's best error=0.6764\n",
            "[flaml.automl: 09-21 20:10:48] {3174} INFO - iteration 28, current learner xgboost\n",
            "INFO:flaml.automl:iteration 28, current learner xgboost\n",
            "[flaml.automl: 09-21 20:10:49] {3360} INFO -  at 18.2s,\testimator xgboost's best error=0.9077,\tbest estimator lgbm's best error=0.6764\n",
            "INFO:flaml.automl: at 18.2s,\testimator xgboost's best error=0.9077,\tbest estimator lgbm's best error=0.6764\n",
            "[flaml.automl: 09-21 20:10:49] {3174} INFO - iteration 29, current learner xgboost\n",
            "INFO:flaml.automl:iteration 29, current learner xgboost\n",
            "[flaml.automl: 09-21 20:10:51] {3360} INFO -  at 20.2s,\testimator xgboost's best error=0.9077,\tbest estimator lgbm's best error=0.6764\n",
            "INFO:flaml.automl: at 20.2s,\testimator xgboost's best error=0.9077,\tbest estimator lgbm's best error=0.6764\n",
            "[flaml.automl: 09-21 20:10:51] {3174} INFO - iteration 30, current learner lgbm\n",
            "INFO:flaml.automl:iteration 30, current learner lgbm\n",
            "[flaml.automl: 09-21 20:10:54] {3360} INFO -  at 23.5s,\testimator lgbm's best error=0.6764,\tbest estimator lgbm's best error=0.6764\n",
            "INFO:flaml.automl: at 23.5s,\testimator lgbm's best error=0.6764,\tbest estimator lgbm's best error=0.6764\n",
            "[flaml.automl: 09-21 20:10:54] {3174} INFO - iteration 31, current learner lgbm\n",
            "INFO:flaml.automl:iteration 31, current learner lgbm\n",
            "[flaml.automl: 09-21 20:10:57] {3360} INFO -  at 26.1s,\testimator lgbm's best error=0.6764,\tbest estimator lgbm's best error=0.6764\n",
            "INFO:flaml.automl: at 26.1s,\testimator lgbm's best error=0.6764,\tbest estimator lgbm's best error=0.6764\n",
            "[flaml.automl: 09-21 20:10:57] {3174} INFO - iteration 32, current learner lgbm\n",
            "INFO:flaml.automl:iteration 32, current learner lgbm\n",
            "[flaml.automl: 09-21 20:10:58] {3360} INFO -  at 27.9s,\testimator lgbm's best error=0.6764,\tbest estimator lgbm's best error=0.6764\n",
            "INFO:flaml.automl: at 27.9s,\testimator lgbm's best error=0.6764,\tbest estimator lgbm's best error=0.6764\n",
            "[flaml.automl: 09-21 20:10:58] {3174} INFO - iteration 33, current learner xgboost\n",
            "INFO:flaml.automl:iteration 33, current learner xgboost\n",
            "[flaml.automl: 09-21 20:11:00] {3360} INFO -  at 29.5s,\testimator xgboost's best error=0.9077,\tbest estimator lgbm's best error=0.6764\n",
            "INFO:flaml.automl: at 29.5s,\testimator xgboost's best error=0.9077,\tbest estimator lgbm's best error=0.6764\n",
            "[flaml.automl: 09-21 20:11:00] {3174} INFO - iteration 34, current learner lgbm\n",
            "INFO:flaml.automl:iteration 34, current learner lgbm\n",
            "[flaml.automl: 09-21 20:11:04] {3360} INFO -  at 34.0s,\testimator lgbm's best error=0.6764,\tbest estimator lgbm's best error=0.6764\n",
            "INFO:flaml.automl: at 34.0s,\testimator lgbm's best error=0.6764,\tbest estimator lgbm's best error=0.6764\n",
            "[flaml.automl: 09-21 20:11:04] {3174} INFO - iteration 35, current learner rf\n",
            "INFO:flaml.automl:iteration 35, current learner rf\n",
            "[flaml.automl: 09-21 20:11:05] {3360} INFO -  at 34.3s,\testimator rf's best error=1.1305,\tbest estimator lgbm's best error=0.6764\n",
            "INFO:flaml.automl: at 34.3s,\testimator rf's best error=1.1305,\tbest estimator lgbm's best error=0.6764\n",
            "[flaml.automl: 09-21 20:11:05] {3174} INFO - iteration 36, current learner extra_tree\n",
            "INFO:flaml.automl:iteration 36, current learner extra_tree\n",
            "[flaml.automl: 09-21 20:11:05] {3360} INFO -  at 34.6s,\testimator extra_tree's best error=1.2081,\tbest estimator lgbm's best error=0.6764\n",
            "INFO:flaml.automl: at 34.6s,\testimator extra_tree's best error=1.2081,\tbest estimator lgbm's best error=0.6764\n",
            "[flaml.automl: 09-21 20:11:05] {3174} INFO - iteration 37, current learner rf\n",
            "INFO:flaml.automl:iteration 37, current learner rf\n",
            "[flaml.automl: 09-21 20:11:05] {3360} INFO -  at 35.1s,\testimator rf's best error=1.1305,\tbest estimator lgbm's best error=0.6764\n",
            "INFO:flaml.automl: at 35.1s,\testimator rf's best error=1.1305,\tbest estimator lgbm's best error=0.6764\n",
            "[flaml.automl: 09-21 20:11:05] {3174} INFO - iteration 38, current learner rf\n",
            "INFO:flaml.automl:iteration 38, current learner rf\n",
            "[flaml.automl: 09-21 20:11:06] {3360} INFO -  at 35.4s,\testimator rf's best error=1.1305,\tbest estimator lgbm's best error=0.6764\n",
            "INFO:flaml.automl: at 35.4s,\testimator rf's best error=1.1305,\tbest estimator lgbm's best error=0.6764\n",
            "[flaml.automl: 09-21 20:11:06] {3174} INFO - iteration 39, current learner rf\n",
            "INFO:flaml.automl:iteration 39, current learner rf\n",
            "[flaml.automl: 09-21 20:11:06] {3360} INFO -  at 35.7s,\testimator rf's best error=1.1305,\tbest estimator lgbm's best error=0.6764\n",
            "INFO:flaml.automl: at 35.7s,\testimator rf's best error=1.1305,\tbest estimator lgbm's best error=0.6764\n",
            "[flaml.automl: 09-21 20:11:06] {3174} INFO - iteration 40, current learner rf\n",
            "INFO:flaml.automl:iteration 40, current learner rf\n",
            "[flaml.automl: 09-21 20:11:07] {3360} INFO -  at 36.2s,\testimator rf's best error=1.1305,\tbest estimator lgbm's best error=0.6764\n",
            "INFO:flaml.automl: at 36.2s,\testimator rf's best error=1.1305,\tbest estimator lgbm's best error=0.6764\n",
            "[flaml.automl: 09-21 20:11:07] {3174} INFO - iteration 41, current learner xgboost\n",
            "INFO:flaml.automl:iteration 41, current learner xgboost\n",
            "[flaml.automl: 09-21 20:11:08] {3360} INFO -  at 37.4s,\testimator xgboost's best error=0.9077,\tbest estimator lgbm's best error=0.6764\n",
            "INFO:flaml.automl: at 37.4s,\testimator xgboost's best error=0.9077,\tbest estimator lgbm's best error=0.6764\n",
            "[flaml.automl: 09-21 20:11:08] {3174} INFO - iteration 42, current learner lgbm\n",
            "INFO:flaml.automl:iteration 42, current learner lgbm\n",
            "[flaml.automl: 09-21 20:11:15] {3360} INFO -  at 44.8s,\testimator lgbm's best error=0.6764,\tbest estimator lgbm's best error=0.6764\n",
            "INFO:flaml.automl: at 44.8s,\testimator lgbm's best error=0.6764,\tbest estimator lgbm's best error=0.6764\n",
            "[flaml.automl: 09-21 20:11:15] {3174} INFO - iteration 43, current learner rf\n",
            "INFO:flaml.automl:iteration 43, current learner rf\n",
            "[flaml.automl: 09-21 20:11:16] {3360} INFO -  at 45.1s,\testimator rf's best error=1.1305,\tbest estimator lgbm's best error=0.6764\n",
            "INFO:flaml.automl: at 45.1s,\testimator rf's best error=1.1305,\tbest estimator lgbm's best error=0.6764\n",
            "[flaml.automl: 09-21 20:11:16] {3174} INFO - iteration 44, current learner extra_tree\n",
            "INFO:flaml.automl:iteration 44, current learner extra_tree\n",
            "[flaml.automl: 09-21 20:11:16] {3360} INFO -  at 45.6s,\testimator extra_tree's best error=1.2081,\tbest estimator lgbm's best error=0.6764\n",
            "INFO:flaml.automl: at 45.6s,\testimator extra_tree's best error=1.2081,\tbest estimator lgbm's best error=0.6764\n",
            "[flaml.automl: 09-21 20:11:16] {3174} INFO - iteration 45, current learner rf\n",
            "INFO:flaml.automl:iteration 45, current learner rf\n",
            "[flaml.automl: 09-21 20:11:16] {3360} INFO -  at 46.0s,\testimator rf's best error=1.1305,\tbest estimator lgbm's best error=0.6764\n",
            "INFO:flaml.automl: at 46.0s,\testimator rf's best error=1.1305,\tbest estimator lgbm's best error=0.6764\n",
            "[flaml.automl: 09-21 20:11:16] {3174} INFO - iteration 46, current learner rf\n",
            "INFO:flaml.automl:iteration 46, current learner rf\n",
            "[flaml.automl: 09-21 20:11:17] {3360} INFO -  at 46.3s,\testimator rf's best error=1.1305,\tbest estimator lgbm's best error=0.6764\n",
            "INFO:flaml.automl: at 46.3s,\testimator rf's best error=1.1305,\tbest estimator lgbm's best error=0.6764\n",
            "[flaml.automl: 09-21 20:11:17] {3174} INFO - iteration 47, current learner rf\n",
            "INFO:flaml.automl:iteration 47, current learner rf\n",
            "[flaml.automl: 09-21 20:11:17] {3360} INFO -  at 46.8s,\testimator rf's best error=1.1305,\tbest estimator lgbm's best error=0.6764\n",
            "INFO:flaml.automl: at 46.8s,\testimator rf's best error=1.1305,\tbest estimator lgbm's best error=0.6764\n",
            "[flaml.automl: 09-21 20:11:17] {3174} INFO - iteration 48, current learner lgbm\n",
            "INFO:flaml.automl:iteration 48, current learner lgbm\n",
            "[flaml.automl: 09-21 20:11:18] {3360} INFO -  at 48.1s,\testimator lgbm's best error=0.6764,\tbest estimator lgbm's best error=0.6764\n",
            "INFO:flaml.automl: at 48.1s,\testimator lgbm's best error=0.6764,\tbest estimator lgbm's best error=0.6764\n",
            "[flaml.automl: 09-21 20:11:18] {3174} INFO - iteration 49, current learner rf\n",
            "INFO:flaml.automl:iteration 49, current learner rf\n",
            "[flaml.automl: 09-21 20:11:19] {3360} INFO -  at 48.4s,\testimator rf's best error=1.0578,\tbest estimator lgbm's best error=0.6764\n",
            "INFO:flaml.automl: at 48.4s,\testimator rf's best error=1.0578,\tbest estimator lgbm's best error=0.6764\n",
            "[flaml.automl: 09-21 20:11:19] {3174} INFO - iteration 50, current learner extra_tree\n",
            "INFO:flaml.automl:iteration 50, current learner extra_tree\n",
            "[flaml.automl: 09-21 20:11:19] {3360} INFO -  at 48.7s,\testimator extra_tree's best error=1.2081,\tbest estimator lgbm's best error=0.6764\n",
            "INFO:flaml.automl: at 48.7s,\testimator extra_tree's best error=1.2081,\tbest estimator lgbm's best error=0.6764\n",
            "[flaml.automl: 09-21 20:11:19] {3174} INFO - iteration 51, current learner lgbm\n",
            "INFO:flaml.automl:iteration 51, current learner lgbm\n",
            "[flaml.automl: 09-21 20:11:25] {3360} INFO -  at 54.2s,\testimator lgbm's best error=0.6764,\tbest estimator lgbm's best error=0.6764\n",
            "INFO:flaml.automl: at 54.2s,\testimator lgbm's best error=0.6764,\tbest estimator lgbm's best error=0.6764\n",
            "[flaml.automl: 09-21 20:11:25] {3174} INFO - iteration 52, current learner xgb_limitdepth\n",
            "INFO:flaml.automl:iteration 52, current learner xgb_limitdepth\n",
            "[flaml.automl: 09-21 20:11:27] {3360} INFO -  at 57.1s,\testimator xgb_limitdepth's best error=0.7670,\tbest estimator lgbm's best error=0.6764\n",
            "INFO:flaml.automl: at 57.1s,\testimator xgb_limitdepth's best error=0.7670,\tbest estimator lgbm's best error=0.6764\n",
            "[flaml.automl: 09-21 20:11:27] {3174} INFO - iteration 53, current learner xgb_limitdepth\n",
            "INFO:flaml.automl:iteration 53, current learner xgb_limitdepth\n",
            "[flaml.automl: 09-21 20:11:30] {3360} INFO -  at 59.4s,\testimator xgb_limitdepth's best error=0.7670,\tbest estimator lgbm's best error=0.6764\n",
            "INFO:flaml.automl: at 59.4s,\testimator xgb_limitdepth's best error=0.7670,\tbest estimator lgbm's best error=0.6764\n",
            "[flaml.automl: 09-21 20:11:30] {3174} INFO - iteration 54, current learner lrl1\n",
            "INFO:flaml.automl:iteration 54, current learner lrl1\n",
            "INFO:flaml.searcher.blendsearch:No low-cost partial config given to the search algorithm. For cost-frugal search, consider providing low-cost values for cost-related hps via 'low_cost_partial_config'. More info can be found at https://microsoft.github.io/FLAML/docs/FAQ#about-low_cost_partial_config-in-tune\n",
            "/usr/local/lib/python3.7/dist-packages/sklearn/linear_model/_sag.py:354: ConvergenceWarning: The max_iter was reached which means the coef_ did not converge\n",
            "  ConvergenceWarning,\n",
            "[flaml.automl: 09-21 20:11:32] {3360} INFO -  at 61.9s,\testimator lrl1's best error=0.8121,\tbest estimator lgbm's best error=0.6764\n",
            "INFO:flaml.automl: at 61.9s,\testimator lrl1's best error=0.8121,\tbest estimator lgbm's best error=0.6764\n",
            "[flaml.automl: 09-21 20:11:36] {3620} INFO - retrain lgbm for 3.9s\n",
            "INFO:flaml.automl:retrain lgbm for 3.9s\n",
            "[flaml.automl: 09-21 20:11:36] {3625} INFO - retrained model: LGBMClassifier(colsample_bytree=0.763007791741338,\n",
            "               learning_rate=0.16645809713264254, max_bin=1023,\n",
            "               min_child_samples=6, n_estimators=31, num_leaves=10,\n",
            "               reg_alpha=0.0009765625, reg_lambda=0.10626868868028042,\n",
            "               verbose=-1)\n",
            "INFO:flaml.automl:retrained model: LGBMClassifier(colsample_bytree=0.763007791741338,\n",
            "               learning_rate=0.16645809713264254, max_bin=1023,\n",
            "               min_child_samples=6, n_estimators=31, num_leaves=10,\n",
            "               reg_alpha=0.0009765625, reg_lambda=0.10626868868028042,\n",
            "               verbose=-1)\n",
            "[flaml.automl: 09-21 20:11:36] {2900} INFO - fit succeeded\n",
            "INFO:flaml.automl:fit succeeded\n",
            "[flaml.automl: 09-21 20:11:36] {2902} INFO - Time taken to find the best model: 14.292509078979492\n",
            "INFO:flaml.automl:Time taken to find the best model: 14.292509078979492\n"
          ]
        },
        {
          "output_type": "stream",
          "name": "stdout",
          "text": [
            "[INFO] Accuracy on train data: 1.0\n"
          ]
        }
      ]
    },
    {
      "cell_type": "code",
      "source": [
        "# Evaluating on the test set\n",
        "test_X_reduced = pca_object.transform(test_X)\n",
        "print(accuracy_score(automl_pca.predict(test_X_reduced), test_y))"
      ],
      "metadata": {
        "colab": {
          "base_uri": "https://localhost:8080/"
        },
        "id": "5k9zxnQjynHT",
        "outputId": "bb781cf1-37aa-45f6-fc9b-9d4501e4f3b4"
      },
      "execution_count": 15,
      "outputs": [
        {
          "output_type": "stream",
          "name": "stdout",
          "text": [
            "0.8181818181818182\n"
          ]
        }
      ]
    },
    {
      "cell_type": "markdown",
      "source": [
        "- Compared to the model post data enrichment, we can see a ~10% increase in accuracy on the test set\n",
        "- Increase in accuracy becomes 69% when compared to the original model\n",
        "- Note: Multiple image augmentation approaches (Random resized cropping, brightness/contrast fluctuation, edge detection etc) were attempted through libraries like `albumentations`\n",
        "  - However, they did not translate to improvements in performance\n",
        "  - As such, they were dropped from this notebook"
      ],
      "metadata": {
        "id": "ihds-LCoeURT"
      }
    },
    {
      "cell_type": "markdown",
      "source": [
        "# Closing Note\n",
        "\n",
        "- We obtained 80%+ accuracy for the task by:\n",
        "  - Using composable image processing transforms to accentuate textual area in our images\n",
        "  - Using AutoML to efficiently explore learner and hyperparameter search space\n",
        "  - Enriching the dataset by created rotated versions of existing data \n",
        "  - Reducing dimensionality of the preprocessed images by PCA\n",
        "- As laid out in the problem statement, we avoided Neural Networks for the task\n",
        "- However, if we were to solve the problem using Neural Networks, we can consider a variety of tactics, not limited to those mentioned below:\n",
        "  - Extracting image features using a pretrained model with the fully connected head at the end 'cut off'\n",
        "  - Using architecture-specific regularisation techniques like Dropout in addition to data-specific regularisation (augmentation that does not distort document angle)\n",
        "  - Using non-linear embeddings via UMAP or AutoEncoders in place of PCA to capture richer dependencies\n",
        "  - Using NN-based OCR technologies like Pytesseract to identify specific text likely to contain more information about document orientation"
      ],
      "metadata": {
        "id": "7Ss2fpKttH1F"
      }
    }
  ]
}